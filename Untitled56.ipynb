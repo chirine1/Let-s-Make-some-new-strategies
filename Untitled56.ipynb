{
 "cells": [
  {
   "cell_type": "code",
   "execution_count": 1,
   "id": "c877841b",
   "metadata": {
    "ExecuteTime": {
     "end_time": "2022-08-25T12:43:42.982585Z",
     "start_time": "2022-08-25T12:43:37.244298Z"
    }
   },
   "outputs": [],
   "source": [
    "import numpy as np\n",
    "import pandas as pd \n",
    "import matplotlib.pyplot as plt\n",
    "import seaborn as sns\n",
    "from mlxtend.frequent_patterns import apriori\n",
    "from mlxtend.frequent_patterns import association_rules\n",
    "#importing libraries"
   ]
  },
  {
   "cell_type": "code",
   "execution_count": 4,
   "id": "8d722c0c",
   "metadata": {
    "ExecuteTime": {
     "end_time": "2022-08-25T12:45:17.980539Z",
     "start_time": "2022-08-25T12:45:17.957758Z"
    }
   },
   "outputs": [
    {
     "data": {
      "text/plain": [
       "[['Skirt', 'Sneakers', 'Scarf', 'Pants', 'Hat'],\n",
       " ['Sunglasses', 'Skirt', 'Sneakers', 'Pants', 'Hat'],\n",
       " ['Dress', 'Sandals', 'Scarf', 'Pants', 'Heels'],\n",
       " ['Dress', 'Necklace', 'Earrings', 'Scarf', 'Hat', 'Heels', 'Hat'],\n",
       " ['Earrings', 'Skirt', 'Skirt', 'Scarf', 'Shirt', 'Pants']]"
      ]
     },
     "execution_count": 4,
     "metadata": {},
     "output_type": "execute_result"
    }
   ],
   "source": [
    "dataset = [['Skirt', 'Sneakers', 'Scarf', 'Pants', 'Hat'],\n",
    "\n",
    "    ['Sunglasses', 'Skirt', 'Sneakers', 'Pants', 'Hat'],\n",
    "\n",
    "    ['Dress', 'Sandals', 'Scarf', 'Pants', 'Heels'],\n",
    "\n",
    "    ['Dress', 'Necklace', 'Earrings', 'Scarf', 'Hat', 'Heels', 'Hat'],\n",
    "\n",
    "   ['Earrings', 'Skirt', 'Skirt', 'Scarf', 'Shirt', 'Pants']]\n",
    "dataset"
   ]
  },
  {
   "cell_type": "markdown",
   "id": "a7f4fb6f",
   "metadata": {},
   "source": [
    "# Apriori Preparation"
   ]
  },
  {
   "cell_type": "code",
   "execution_count": 11,
   "id": "4362e1b8",
   "metadata": {
    "ExecuteTime": {
     "end_time": "2022-08-25T16:26:02.199774Z",
     "start_time": "2022-08-25T16:26:02.174427Z"
    }
   },
   "outputs": [
    {
     "data": {
      "text/html": [
       "<div>\n",
       "<style scoped>\n",
       "    .dataframe tbody tr th:only-of-type {\n",
       "        vertical-align: middle;\n",
       "    }\n",
       "\n",
       "    .dataframe tbody tr th {\n",
       "        vertical-align: top;\n",
       "    }\n",
       "\n",
       "    .dataframe thead th {\n",
       "        text-align: right;\n",
       "    }\n",
       "</style>\n",
       "<table border=\"1\" class=\"dataframe\">\n",
       "  <thead>\n",
       "    <tr style=\"text-align: right;\">\n",
       "      <th></th>\n",
       "      <th>Dress</th>\n",
       "      <th>Earrings</th>\n",
       "      <th>Hat</th>\n",
       "      <th>Heels</th>\n",
       "      <th>Necklace</th>\n",
       "      <th>Pants</th>\n",
       "      <th>Sandals</th>\n",
       "      <th>Scarf</th>\n",
       "      <th>Shirt</th>\n",
       "      <th>Skirt</th>\n",
       "      <th>Sneakers</th>\n",
       "      <th>Sunglasses</th>\n",
       "    </tr>\n",
       "  </thead>\n",
       "  <tbody>\n",
       "    <tr>\n",
       "      <th>0</th>\n",
       "      <td>False</td>\n",
       "      <td>False</td>\n",
       "      <td>True</td>\n",
       "      <td>False</td>\n",
       "      <td>False</td>\n",
       "      <td>True</td>\n",
       "      <td>False</td>\n",
       "      <td>True</td>\n",
       "      <td>False</td>\n",
       "      <td>True</td>\n",
       "      <td>True</td>\n",
       "      <td>False</td>\n",
       "    </tr>\n",
       "    <tr>\n",
       "      <th>1</th>\n",
       "      <td>False</td>\n",
       "      <td>False</td>\n",
       "      <td>True</td>\n",
       "      <td>False</td>\n",
       "      <td>False</td>\n",
       "      <td>True</td>\n",
       "      <td>False</td>\n",
       "      <td>False</td>\n",
       "      <td>False</td>\n",
       "      <td>True</td>\n",
       "      <td>True</td>\n",
       "      <td>True</td>\n",
       "    </tr>\n",
       "    <tr>\n",
       "      <th>2</th>\n",
       "      <td>True</td>\n",
       "      <td>False</td>\n",
       "      <td>False</td>\n",
       "      <td>True</td>\n",
       "      <td>False</td>\n",
       "      <td>True</td>\n",
       "      <td>True</td>\n",
       "      <td>True</td>\n",
       "      <td>False</td>\n",
       "      <td>False</td>\n",
       "      <td>False</td>\n",
       "      <td>False</td>\n",
       "    </tr>\n",
       "    <tr>\n",
       "      <th>3</th>\n",
       "      <td>True</td>\n",
       "      <td>True</td>\n",
       "      <td>True</td>\n",
       "      <td>True</td>\n",
       "      <td>True</td>\n",
       "      <td>False</td>\n",
       "      <td>False</td>\n",
       "      <td>True</td>\n",
       "      <td>False</td>\n",
       "      <td>False</td>\n",
       "      <td>False</td>\n",
       "      <td>False</td>\n",
       "    </tr>\n",
       "    <tr>\n",
       "      <th>4</th>\n",
       "      <td>False</td>\n",
       "      <td>True</td>\n",
       "      <td>False</td>\n",
       "      <td>False</td>\n",
       "      <td>False</td>\n",
       "      <td>True</td>\n",
       "      <td>False</td>\n",
       "      <td>True</td>\n",
       "      <td>True</td>\n",
       "      <td>True</td>\n",
       "      <td>False</td>\n",
       "      <td>False</td>\n",
       "    </tr>\n",
       "  </tbody>\n",
       "</table>\n",
       "</div>"
      ],
      "text/plain": [
       "   Dress  Earrings    Hat  Heels  Necklace  Pants  Sandals  Scarf  Shirt  \\\n",
       "0  False     False   True  False     False   True    False   True  False   \n",
       "1  False     False   True  False     False   True    False  False  False   \n",
       "2   True     False  False   True     False   True     True   True  False   \n",
       "3   True      True   True   True      True  False    False   True  False   \n",
       "4  False      True  False  False     False   True    False   True   True   \n",
       "\n",
       "   Skirt  Sneakers  Sunglasses  \n",
       "0   True      True       False  \n",
       "1   True      True        True  \n",
       "2  False     False       False  \n",
       "3  False     False       False  \n",
       "4   True     False       False  "
      ]
     },
     "execution_count": 11,
     "metadata": {},
     "output_type": "execute_result"
    }
   ],
   "source": [
    "import mlxtend\n",
    "import pandas as pd\n",
    "from mlxtend.preprocessing import TransactionEncoder\n",
    "te=TransactionEncoder()\n",
    "te_ary=te.fit(dataset).transform(dataset)    #Apply one-hot-encoding on our dataset\n",
    "df=pd.DataFrame(te_ary, columns=te.columns_)  #Creating a new DataFrame from our Numpy array\n",
    "df"
   ]
  },
  {
   "cell_type": "markdown",
   "id": "7de8a9f5",
   "metadata": {},
   "source": [
    "# Support Code"
   ]
  },
  {
   "cell_type": "code",
   "execution_count": 12,
   "id": "d1470837",
   "metadata": {
    "ExecuteTime": {
     "end_time": "2022-08-25T16:26:04.139908Z",
     "start_time": "2022-08-25T16:26:04.112473Z"
    }
   },
   "outputs": [
    {
     "data": {
      "text/html": [
       "<div>\n",
       "<style scoped>\n",
       "    .dataframe tbody tr th:only-of-type {\n",
       "        vertical-align: middle;\n",
       "    }\n",
       "\n",
       "    .dataframe tbody tr th {\n",
       "        vertical-align: top;\n",
       "    }\n",
       "\n",
       "    .dataframe thead th {\n",
       "        text-align: right;\n",
       "    }\n",
       "</style>\n",
       "<table border=\"1\" class=\"dataframe\">\n",
       "  <thead>\n",
       "    <tr style=\"text-align: right;\">\n",
       "      <th></th>\n",
       "      <th>support</th>\n",
       "      <th>itemsets</th>\n",
       "    </tr>\n",
       "  </thead>\n",
       "  <tbody>\n",
       "    <tr>\n",
       "      <th>0</th>\n",
       "      <td>0.6</td>\n",
       "      <td>(Hat)</td>\n",
       "    </tr>\n",
       "    <tr>\n",
       "      <th>1</th>\n",
       "      <td>0.8</td>\n",
       "      <td>(Pants)</td>\n",
       "    </tr>\n",
       "    <tr>\n",
       "      <th>2</th>\n",
       "      <td>0.8</td>\n",
       "      <td>(Scarf)</td>\n",
       "    </tr>\n",
       "    <tr>\n",
       "      <th>3</th>\n",
       "      <td>0.6</td>\n",
       "      <td>(Skirt)</td>\n",
       "    </tr>\n",
       "    <tr>\n",
       "      <th>4</th>\n",
       "      <td>0.6</td>\n",
       "      <td>(Pants, Scarf)</td>\n",
       "    </tr>\n",
       "    <tr>\n",
       "      <th>5</th>\n",
       "      <td>0.6</td>\n",
       "      <td>(Pants, Skirt)</td>\n",
       "    </tr>\n",
       "  </tbody>\n",
       "</table>\n",
       "</div>"
      ],
      "text/plain": [
       "   support        itemsets\n",
       "0      0.6           (Hat)\n",
       "1      0.8         (Pants)\n",
       "2      0.8         (Scarf)\n",
       "3      0.6         (Skirt)\n",
       "4      0.6  (Pants, Scarf)\n",
       "5      0.6  (Pants, Skirt)"
      ]
     },
     "execution_count": 12,
     "metadata": {},
     "output_type": "execute_result"
    }
   ],
   "source": [
    "frequent_itemsets=apriori(df, min_support=0.6, use_colnames=True) #Instead of column indices we can use column names.\n",
    "frequent_itemsets"
   ]
  },
  {
   "cell_type": "markdown",
   "id": "6613f780",
   "metadata": {},
   "source": [
    "60 % of transactions contain Hat,\n",
    "80 % of transactions contain Pants,\n",
    "80 % of transactions contain Scarf,\n",
    "60 % of transactions contain Pants with  Scarf,\n",
    "60 % of transactions contain Skirt,\n",
    "60 % of transactions contain Pants with Skirt."
   ]
  },
  {
   "cell_type": "code",
   "execution_count": 13,
   "id": "8bd28ef1",
   "metadata": {
    "ExecuteTime": {
     "end_time": "2022-08-25T16:26:05.845078Z",
     "start_time": "2022-08-25T16:26:05.819358Z"
    }
   },
   "outputs": [
    {
     "data": {
      "text/html": [
       "<div>\n",
       "<style scoped>\n",
       "    .dataframe tbody tr th:only-of-type {\n",
       "        vertical-align: middle;\n",
       "    }\n",
       "\n",
       "    .dataframe tbody tr th {\n",
       "        vertical-align: top;\n",
       "    }\n",
       "\n",
       "    .dataframe thead th {\n",
       "        text-align: right;\n",
       "    }\n",
       "</style>\n",
       "<table border=\"1\" class=\"dataframe\">\n",
       "  <thead>\n",
       "    <tr style=\"text-align: right;\">\n",
       "      <th></th>\n",
       "      <th>support</th>\n",
       "      <th>itemsets</th>\n",
       "    </tr>\n",
       "  </thead>\n",
       "  <tbody>\n",
       "    <tr>\n",
       "      <th>0</th>\n",
       "      <td>0.6</td>\n",
       "      <td>(2)</td>\n",
       "    </tr>\n",
       "    <tr>\n",
       "      <th>1</th>\n",
       "      <td>0.8</td>\n",
       "      <td>(5)</td>\n",
       "    </tr>\n",
       "    <tr>\n",
       "      <th>2</th>\n",
       "      <td>0.8</td>\n",
       "      <td>(7)</td>\n",
       "    </tr>\n",
       "    <tr>\n",
       "      <th>3</th>\n",
       "      <td>0.6</td>\n",
       "      <td>(9)</td>\n",
       "    </tr>\n",
       "    <tr>\n",
       "      <th>4</th>\n",
       "      <td>0.6</td>\n",
       "      <td>(5, 7)</td>\n",
       "    </tr>\n",
       "    <tr>\n",
       "      <th>5</th>\n",
       "      <td>0.6</td>\n",
       "      <td>(9, 5)</td>\n",
       "    </tr>\n",
       "  </tbody>\n",
       "</table>\n",
       "</div>"
      ],
      "text/plain": [
       "   support itemsets\n",
       "0      0.6      (2)\n",
       "1      0.8      (5)\n",
       "2      0.8      (7)\n",
       "3      0.6      (9)\n",
       "4      0.6   (5, 7)\n",
       "5      0.6   (9, 5)"
      ]
     },
     "execution_count": 13,
     "metadata": {},
     "output_type": "execute_result"
    }
   ],
   "source": [
    "from mlxtend.frequent_patterns import apriori\n",
    "apriori(df, min_support=0.6)"
   ]
  },
  {
   "cell_type": "markdown",
   "id": "7b0b5c89",
   "metadata": {},
   "source": [
    "# Confidence Code"
   ]
  },
  {
   "cell_type": "code",
   "execution_count": 9,
   "id": "362c1fd6",
   "metadata": {
    "ExecuteTime": {
     "end_time": "2022-08-25T16:12:00.770942Z",
     "start_time": "2022-08-25T16:12:00.744400Z"
    }
   },
   "outputs": [
    {
     "data": {
      "text/html": [
       "<div>\n",
       "<style scoped>\n",
       "    .dataframe tbody tr th:only-of-type {\n",
       "        vertical-align: middle;\n",
       "    }\n",
       "\n",
       "    .dataframe tbody tr th {\n",
       "        vertical-align: top;\n",
       "    }\n",
       "\n",
       "    .dataframe thead th {\n",
       "        text-align: right;\n",
       "    }\n",
       "</style>\n",
       "<table border=\"1\" class=\"dataframe\">\n",
       "  <thead>\n",
       "    <tr style=\"text-align: right;\">\n",
       "      <th></th>\n",
       "      <th>antecedents</th>\n",
       "      <th>consequents</th>\n",
       "      <th>antecedent support</th>\n",
       "      <th>consequent support</th>\n",
       "      <th>support</th>\n",
       "      <th>confidence</th>\n",
       "      <th>lift</th>\n",
       "      <th>leverage</th>\n",
       "      <th>conviction</th>\n",
       "    </tr>\n",
       "  </thead>\n",
       "  <tbody>\n",
       "    <tr>\n",
       "      <th>0</th>\n",
       "      <td>(Pants)</td>\n",
       "      <td>(Scarf)</td>\n",
       "      <td>0.8</td>\n",
       "      <td>0.8</td>\n",
       "      <td>0.6</td>\n",
       "      <td>0.75</td>\n",
       "      <td>0.9375</td>\n",
       "      <td>-0.04</td>\n",
       "      <td>0.8</td>\n",
       "    </tr>\n",
       "    <tr>\n",
       "      <th>1</th>\n",
       "      <td>(Scarf)</td>\n",
       "      <td>(Pants)</td>\n",
       "      <td>0.8</td>\n",
       "      <td>0.8</td>\n",
       "      <td>0.6</td>\n",
       "      <td>0.75</td>\n",
       "      <td>0.9375</td>\n",
       "      <td>-0.04</td>\n",
       "      <td>0.8</td>\n",
       "    </tr>\n",
       "    <tr>\n",
       "      <th>2</th>\n",
       "      <td>(Pants)</td>\n",
       "      <td>(Skirt)</td>\n",
       "      <td>0.8</td>\n",
       "      <td>0.6</td>\n",
       "      <td>0.6</td>\n",
       "      <td>0.75</td>\n",
       "      <td>1.2500</td>\n",
       "      <td>0.12</td>\n",
       "      <td>1.6</td>\n",
       "    </tr>\n",
       "    <tr>\n",
       "      <th>3</th>\n",
       "      <td>(Skirt)</td>\n",
       "      <td>(Pants)</td>\n",
       "      <td>0.6</td>\n",
       "      <td>0.8</td>\n",
       "      <td>0.6</td>\n",
       "      <td>1.00</td>\n",
       "      <td>1.2500</td>\n",
       "      <td>0.12</td>\n",
       "      <td>inf</td>\n",
       "    </tr>\n",
       "  </tbody>\n",
       "</table>\n",
       "</div>"
      ],
      "text/plain": [
       "  antecedents consequents  antecedent support  consequent support  support  \\\n",
       "0     (Pants)     (Scarf)                 0.8                 0.8      0.6   \n",
       "1     (Scarf)     (Pants)                 0.8                 0.8      0.6   \n",
       "2     (Pants)     (Skirt)                 0.8                 0.6      0.6   \n",
       "3     (Skirt)     (Pants)                 0.6                 0.8      0.6   \n",
       "\n",
       "   confidence    lift  leverage  conviction  \n",
       "0        0.75  0.9375     -0.04         0.8  \n",
       "1        0.75  0.9375     -0.04         0.8  \n",
       "2        0.75  1.2500      0.12         1.6  \n",
       "3        1.00  1.2500      0.12         inf  "
      ]
     },
     "execution_count": 9,
     "metadata": {},
     "output_type": "execute_result"
    }
   ],
   "source": [
    "from mlxtend.frequent_patterns import association_rules \n",
    "association_rules(frequent_itemsets,metric=\"confidence\",min_threshold=0.7) # associate itemsets with confidence over 70%."
   ]
  },
  {
   "cell_type": "markdown",
   "id": "f3454a95",
   "metadata": {},
   "source": [
    "we have a 0.75 chance to buy Pants with Scarf and \n",
    "a 1.00 chance to buy  Skirt with Pants"
   ]
  },
  {
   "cell_type": "markdown",
   "id": "f32c83a2",
   "metadata": {},
   "source": [
    "# Associating based on lift"
   ]
  },
  {
   "cell_type": "code",
   "execution_count": 10,
   "id": "362b51f9",
   "metadata": {
    "ExecuteTime": {
     "end_time": "2022-08-25T16:13:13.472825Z",
     "start_time": "2022-08-25T16:13:13.446274Z"
    }
   },
   "outputs": [
    {
     "data": {
      "text/html": [
       "<div>\n",
       "<style scoped>\n",
       "    .dataframe tbody tr th:only-of-type {\n",
       "        vertical-align: middle;\n",
       "    }\n",
       "\n",
       "    .dataframe tbody tr th {\n",
       "        vertical-align: top;\n",
       "    }\n",
       "\n",
       "    .dataframe thead th {\n",
       "        text-align: right;\n",
       "    }\n",
       "</style>\n",
       "<table border=\"1\" class=\"dataframe\">\n",
       "  <thead>\n",
       "    <tr style=\"text-align: right;\">\n",
       "      <th></th>\n",
       "      <th>antecedents</th>\n",
       "      <th>consequents</th>\n",
       "      <th>antecedent support</th>\n",
       "      <th>consequent support</th>\n",
       "      <th>support</th>\n",
       "      <th>confidence</th>\n",
       "      <th>lift</th>\n",
       "      <th>leverage</th>\n",
       "      <th>conviction</th>\n",
       "    </tr>\n",
       "  </thead>\n",
       "  <tbody>\n",
       "    <tr>\n",
       "      <th>0</th>\n",
       "      <td>(Skirt)</td>\n",
       "      <td>(Pants)</td>\n",
       "      <td>0.6</td>\n",
       "      <td>0.8</td>\n",
       "      <td>0.6</td>\n",
       "      <td>1.0</td>\n",
       "      <td>1.25</td>\n",
       "      <td>0.12</td>\n",
       "      <td>inf</td>\n",
       "    </tr>\n",
       "  </tbody>\n",
       "</table>\n",
       "</div>"
      ],
      "text/plain": [
       "  antecedents consequents  antecedent support  consequent support  support  \\\n",
       "0     (Skirt)     (Pants)                 0.6                 0.8      0.6   \n",
       "\n",
       "   confidence  lift  leverage  conviction  \n",
       "0         1.0  1.25      0.12         inf  "
      ]
     },
     "execution_count": 10,
     "metadata": {},
     "output_type": "execute_result"
    }
   ],
   "source": [
    "from mlxtend.frequent_patterns import association_rules \n",
    "association_rules(frequent_itemsets,metric=\"lift\",min_threshold=1.25)"
   ]
  },
  {
   "cell_type": "markdown",
   "id": "a6d13813",
   "metadata": {},
   "source": [
    "It's more likely to buy Skirt and Pants rather than Skirt alone since the lift of {Skirt->Pants}>1"
   ]
  },
  {
   "cell_type": "code",
   "execution_count": null,
   "id": "5500fd95",
   "metadata": {},
   "outputs": [],
   "source": []
  }
 ],
 "metadata": {
  "kernelspec": {
   "display_name": "Python 3 (ipykernel)",
   "language": "python",
   "name": "python3"
  },
  "language_info": {
   "codemirror_mode": {
    "name": "ipython",
    "version": 3
   },
   "file_extension": ".py",
   "mimetype": "text/x-python",
   "name": "python",
   "nbconvert_exporter": "python",
   "pygments_lexer": "ipython3",
   "version": "3.9.12"
  },
  "toc": {
   "base_numbering": 1,
   "nav_menu": {},
   "number_sections": true,
   "sideBar": true,
   "skip_h1_title": false,
   "title_cell": "Table of Contents",
   "title_sidebar": "Contents",
   "toc_cell": false,
   "toc_position": {},
   "toc_section_display": true,
   "toc_window_display": false
  },
  "varInspector": {
   "cols": {
    "lenName": 16,
    "lenType": 16,
    "lenVar": 40
   },
   "kernels_config": {
    "python": {
     "delete_cmd_postfix": "",
     "delete_cmd_prefix": "del ",
     "library": "var_list.py",
     "varRefreshCmd": "print(var_dic_list())"
    },
    "r": {
     "delete_cmd_postfix": ") ",
     "delete_cmd_prefix": "rm(",
     "library": "var_list.r",
     "varRefreshCmd": "cat(var_dic_list()) "
    }
   },
   "types_to_exclude": [
    "module",
    "function",
    "builtin_function_or_method",
    "instance",
    "_Feature"
   ],
   "window_display": false
  }
 },
 "nbformat": 4,
 "nbformat_minor": 5
}
