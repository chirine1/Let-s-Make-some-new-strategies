{
 "cells": [
  {
   "cell_type": "markdown",
   "id": "dc9ea14e",
   "metadata": {},
   "source": [
    "# importing our dataset from csv file"
   ]
  },
  {
   "cell_type": "code",
   "execution_count": 1,
   "id": "84429c21",
   "metadata": {
    "ExecuteTime": {
     "end_time": "2022-08-28T20:37:40.391329Z",
     "start_time": "2022-08-28T20:37:36.110199Z"
    }
   },
   "outputs": [],
   "source": [
    "import numpy as np\n",
    "import pandas as pd\n",
    "import matplotlib.pyplot as plt\n",
    "import seaborn as sns\n",
    "from mlxtend.frequent_patterns import apriori\n",
    "from mlxtend.frequent_patterns import association_rules"
   ]
  },
  {
   "cell_type": "code",
   "execution_count": 2,
   "id": "2f5e93be",
   "metadata": {
    "ExecuteTime": {
     "end_time": "2022-08-28T20:37:40.485841Z",
     "start_time": "2022-08-28T20:37:40.440910Z"
    }
   },
   "outputs": [
    {
     "data": {
      "text/html": [
       "<div>\n",
       "<style scoped>\n",
       "    .dataframe tbody tr th:only-of-type {\n",
       "        vertical-align: middle;\n",
       "    }\n",
       "\n",
       "    .dataframe tbody tr th {\n",
       "        vertical-align: top;\n",
       "    }\n",
       "\n",
       "    .dataframe thead th {\n",
       "        text-align: right;\n",
       "    }\n",
       "</style>\n",
       "<table border=\"1\" class=\"dataframe\">\n",
       "  <thead>\n",
       "    <tr style=\"text-align: right;\">\n",
       "      <th></th>\n",
       "      <th>shrimp</th>\n",
       "      <th>almonds</th>\n",
       "      <th>avocado</th>\n",
       "      <th>vegetables mix</th>\n",
       "      <th>green grapes</th>\n",
       "      <th>whole weat flour</th>\n",
       "      <th>yams</th>\n",
       "      <th>cottage cheese</th>\n",
       "      <th>energy drink</th>\n",
       "      <th>tomato juice</th>\n",
       "      <th>low fat yogurt</th>\n",
       "      <th>green tea</th>\n",
       "      <th>honey</th>\n",
       "      <th>salad</th>\n",
       "      <th>mineral water</th>\n",
       "      <th>salmon</th>\n",
       "      <th>antioxydant juice</th>\n",
       "      <th>frozen smoothie</th>\n",
       "      <th>spinach</th>\n",
       "      <th>olive oil</th>\n",
       "    </tr>\n",
       "  </thead>\n",
       "  <tbody>\n",
       "    <tr>\n",
       "      <th>0</th>\n",
       "      <td>burgers</td>\n",
       "      <td>meatballs</td>\n",
       "      <td>eggs</td>\n",
       "      <td>NaN</td>\n",
       "      <td>NaN</td>\n",
       "      <td>NaN</td>\n",
       "      <td>NaN</td>\n",
       "      <td>NaN</td>\n",
       "      <td>NaN</td>\n",
       "      <td>NaN</td>\n",
       "      <td>NaN</td>\n",
       "      <td>NaN</td>\n",
       "      <td>NaN</td>\n",
       "      <td>NaN</td>\n",
       "      <td>NaN</td>\n",
       "      <td>NaN</td>\n",
       "      <td>NaN</td>\n",
       "      <td>NaN</td>\n",
       "      <td>NaN</td>\n",
       "      <td>NaN</td>\n",
       "    </tr>\n",
       "    <tr>\n",
       "      <th>1</th>\n",
       "      <td>chutney</td>\n",
       "      <td>NaN</td>\n",
       "      <td>NaN</td>\n",
       "      <td>NaN</td>\n",
       "      <td>NaN</td>\n",
       "      <td>NaN</td>\n",
       "      <td>NaN</td>\n",
       "      <td>NaN</td>\n",
       "      <td>NaN</td>\n",
       "      <td>NaN</td>\n",
       "      <td>NaN</td>\n",
       "      <td>NaN</td>\n",
       "      <td>NaN</td>\n",
       "      <td>NaN</td>\n",
       "      <td>NaN</td>\n",
       "      <td>NaN</td>\n",
       "      <td>NaN</td>\n",
       "      <td>NaN</td>\n",
       "      <td>NaN</td>\n",
       "      <td>NaN</td>\n",
       "    </tr>\n",
       "    <tr>\n",
       "      <th>2</th>\n",
       "      <td>turkey</td>\n",
       "      <td>avocado</td>\n",
       "      <td>NaN</td>\n",
       "      <td>NaN</td>\n",
       "      <td>NaN</td>\n",
       "      <td>NaN</td>\n",
       "      <td>NaN</td>\n",
       "      <td>NaN</td>\n",
       "      <td>NaN</td>\n",
       "      <td>NaN</td>\n",
       "      <td>NaN</td>\n",
       "      <td>NaN</td>\n",
       "      <td>NaN</td>\n",
       "      <td>NaN</td>\n",
       "      <td>NaN</td>\n",
       "      <td>NaN</td>\n",
       "      <td>NaN</td>\n",
       "      <td>NaN</td>\n",
       "      <td>NaN</td>\n",
       "      <td>NaN</td>\n",
       "    </tr>\n",
       "    <tr>\n",
       "      <th>3</th>\n",
       "      <td>mineral water</td>\n",
       "      <td>milk</td>\n",
       "      <td>energy bar</td>\n",
       "      <td>whole wheat rice</td>\n",
       "      <td>green tea</td>\n",
       "      <td>NaN</td>\n",
       "      <td>NaN</td>\n",
       "      <td>NaN</td>\n",
       "      <td>NaN</td>\n",
       "      <td>NaN</td>\n",
       "      <td>NaN</td>\n",
       "      <td>NaN</td>\n",
       "      <td>NaN</td>\n",
       "      <td>NaN</td>\n",
       "      <td>NaN</td>\n",
       "      <td>NaN</td>\n",
       "      <td>NaN</td>\n",
       "      <td>NaN</td>\n",
       "      <td>NaN</td>\n",
       "      <td>NaN</td>\n",
       "    </tr>\n",
       "    <tr>\n",
       "      <th>4</th>\n",
       "      <td>low fat yogurt</td>\n",
       "      <td>NaN</td>\n",
       "      <td>NaN</td>\n",
       "      <td>NaN</td>\n",
       "      <td>NaN</td>\n",
       "      <td>NaN</td>\n",
       "      <td>NaN</td>\n",
       "      <td>NaN</td>\n",
       "      <td>NaN</td>\n",
       "      <td>NaN</td>\n",
       "      <td>NaN</td>\n",
       "      <td>NaN</td>\n",
       "      <td>NaN</td>\n",
       "      <td>NaN</td>\n",
       "      <td>NaN</td>\n",
       "      <td>NaN</td>\n",
       "      <td>NaN</td>\n",
       "      <td>NaN</td>\n",
       "      <td>NaN</td>\n",
       "      <td>NaN</td>\n",
       "    </tr>\n",
       "    <tr>\n",
       "      <th>...</th>\n",
       "      <td>...</td>\n",
       "      <td>...</td>\n",
       "      <td>...</td>\n",
       "      <td>...</td>\n",
       "      <td>...</td>\n",
       "      <td>...</td>\n",
       "      <td>...</td>\n",
       "      <td>...</td>\n",
       "      <td>...</td>\n",
       "      <td>...</td>\n",
       "      <td>...</td>\n",
       "      <td>...</td>\n",
       "      <td>...</td>\n",
       "      <td>...</td>\n",
       "      <td>...</td>\n",
       "      <td>...</td>\n",
       "      <td>...</td>\n",
       "      <td>...</td>\n",
       "      <td>...</td>\n",
       "      <td>...</td>\n",
       "    </tr>\n",
       "    <tr>\n",
       "      <th>7495</th>\n",
       "      <td>butter</td>\n",
       "      <td>light mayo</td>\n",
       "      <td>fresh bread</td>\n",
       "      <td>NaN</td>\n",
       "      <td>NaN</td>\n",
       "      <td>NaN</td>\n",
       "      <td>NaN</td>\n",
       "      <td>NaN</td>\n",
       "      <td>NaN</td>\n",
       "      <td>NaN</td>\n",
       "      <td>NaN</td>\n",
       "      <td>NaN</td>\n",
       "      <td>NaN</td>\n",
       "      <td>NaN</td>\n",
       "      <td>NaN</td>\n",
       "      <td>NaN</td>\n",
       "      <td>NaN</td>\n",
       "      <td>NaN</td>\n",
       "      <td>NaN</td>\n",
       "      <td>NaN</td>\n",
       "    </tr>\n",
       "    <tr>\n",
       "      <th>7496</th>\n",
       "      <td>burgers</td>\n",
       "      <td>frozen vegetables</td>\n",
       "      <td>eggs</td>\n",
       "      <td>french fries</td>\n",
       "      <td>magazines</td>\n",
       "      <td>green tea</td>\n",
       "      <td>NaN</td>\n",
       "      <td>NaN</td>\n",
       "      <td>NaN</td>\n",
       "      <td>NaN</td>\n",
       "      <td>NaN</td>\n",
       "      <td>NaN</td>\n",
       "      <td>NaN</td>\n",
       "      <td>NaN</td>\n",
       "      <td>NaN</td>\n",
       "      <td>NaN</td>\n",
       "      <td>NaN</td>\n",
       "      <td>NaN</td>\n",
       "      <td>NaN</td>\n",
       "      <td>NaN</td>\n",
       "    </tr>\n",
       "    <tr>\n",
       "      <th>7497</th>\n",
       "      <td>chicken</td>\n",
       "      <td>NaN</td>\n",
       "      <td>NaN</td>\n",
       "      <td>NaN</td>\n",
       "      <td>NaN</td>\n",
       "      <td>NaN</td>\n",
       "      <td>NaN</td>\n",
       "      <td>NaN</td>\n",
       "      <td>NaN</td>\n",
       "      <td>NaN</td>\n",
       "      <td>NaN</td>\n",
       "      <td>NaN</td>\n",
       "      <td>NaN</td>\n",
       "      <td>NaN</td>\n",
       "      <td>NaN</td>\n",
       "      <td>NaN</td>\n",
       "      <td>NaN</td>\n",
       "      <td>NaN</td>\n",
       "      <td>NaN</td>\n",
       "      <td>NaN</td>\n",
       "    </tr>\n",
       "    <tr>\n",
       "      <th>7498</th>\n",
       "      <td>escalope</td>\n",
       "      <td>green tea</td>\n",
       "      <td>NaN</td>\n",
       "      <td>NaN</td>\n",
       "      <td>NaN</td>\n",
       "      <td>NaN</td>\n",
       "      <td>NaN</td>\n",
       "      <td>NaN</td>\n",
       "      <td>NaN</td>\n",
       "      <td>NaN</td>\n",
       "      <td>NaN</td>\n",
       "      <td>NaN</td>\n",
       "      <td>NaN</td>\n",
       "      <td>NaN</td>\n",
       "      <td>NaN</td>\n",
       "      <td>NaN</td>\n",
       "      <td>NaN</td>\n",
       "      <td>NaN</td>\n",
       "      <td>NaN</td>\n",
       "      <td>NaN</td>\n",
       "    </tr>\n",
       "    <tr>\n",
       "      <th>7499</th>\n",
       "      <td>eggs</td>\n",
       "      <td>frozen smoothie</td>\n",
       "      <td>yogurt cake</td>\n",
       "      <td>low fat yogurt</td>\n",
       "      <td>NaN</td>\n",
       "      <td>NaN</td>\n",
       "      <td>NaN</td>\n",
       "      <td>NaN</td>\n",
       "      <td>NaN</td>\n",
       "      <td>NaN</td>\n",
       "      <td>NaN</td>\n",
       "      <td>NaN</td>\n",
       "      <td>NaN</td>\n",
       "      <td>NaN</td>\n",
       "      <td>NaN</td>\n",
       "      <td>NaN</td>\n",
       "      <td>NaN</td>\n",
       "      <td>NaN</td>\n",
       "      <td>NaN</td>\n",
       "      <td>NaN</td>\n",
       "    </tr>\n",
       "  </tbody>\n",
       "</table>\n",
       "<p>7500 rows × 20 columns</p>\n",
       "</div>"
      ],
      "text/plain": [
       "              shrimp            almonds      avocado    vegetables mix  \\\n",
       "0            burgers          meatballs         eggs               NaN   \n",
       "1            chutney                NaN          NaN               NaN   \n",
       "2             turkey            avocado          NaN               NaN   \n",
       "3      mineral water               milk   energy bar  whole wheat rice   \n",
       "4     low fat yogurt                NaN          NaN               NaN   \n",
       "...              ...                ...          ...               ...   \n",
       "7495          butter         light mayo  fresh bread               NaN   \n",
       "7496         burgers  frozen vegetables         eggs      french fries   \n",
       "7497         chicken                NaN          NaN               NaN   \n",
       "7498        escalope          green tea          NaN               NaN   \n",
       "7499            eggs    frozen smoothie  yogurt cake    low fat yogurt   \n",
       "\n",
       "     green grapes whole weat flour yams cottage cheese energy drink  \\\n",
       "0             NaN              NaN  NaN            NaN          NaN   \n",
       "1             NaN              NaN  NaN            NaN          NaN   \n",
       "2             NaN              NaN  NaN            NaN          NaN   \n",
       "3       green tea              NaN  NaN            NaN          NaN   \n",
       "4             NaN              NaN  NaN            NaN          NaN   \n",
       "...           ...              ...  ...            ...          ...   \n",
       "7495          NaN              NaN  NaN            NaN          NaN   \n",
       "7496    magazines        green tea  NaN            NaN          NaN   \n",
       "7497          NaN              NaN  NaN            NaN          NaN   \n",
       "7498          NaN              NaN  NaN            NaN          NaN   \n",
       "7499          NaN              NaN  NaN            NaN          NaN   \n",
       "\n",
       "     tomato juice low fat yogurt green tea honey salad mineral water salmon  \\\n",
       "0             NaN            NaN       NaN   NaN   NaN           NaN    NaN   \n",
       "1             NaN            NaN       NaN   NaN   NaN           NaN    NaN   \n",
       "2             NaN            NaN       NaN   NaN   NaN           NaN    NaN   \n",
       "3             NaN            NaN       NaN   NaN   NaN           NaN    NaN   \n",
       "4             NaN            NaN       NaN   NaN   NaN           NaN    NaN   \n",
       "...           ...            ...       ...   ...   ...           ...    ...   \n",
       "7495          NaN            NaN       NaN   NaN   NaN           NaN    NaN   \n",
       "7496          NaN            NaN       NaN   NaN   NaN           NaN    NaN   \n",
       "7497          NaN            NaN       NaN   NaN   NaN           NaN    NaN   \n",
       "7498          NaN            NaN       NaN   NaN   NaN           NaN    NaN   \n",
       "7499          NaN            NaN       NaN   NaN   NaN           NaN    NaN   \n",
       "\n",
       "     antioxydant juice frozen smoothie spinach  olive oil  \n",
       "0                  NaN             NaN     NaN        NaN  \n",
       "1                  NaN             NaN     NaN        NaN  \n",
       "2                  NaN             NaN     NaN        NaN  \n",
       "3                  NaN             NaN     NaN        NaN  \n",
       "4                  NaN             NaN     NaN        NaN  \n",
       "...                ...             ...     ...        ...  \n",
       "7495               NaN             NaN     NaN        NaN  \n",
       "7496               NaN             NaN     NaN        NaN  \n",
       "7497               NaN             NaN     NaN        NaN  \n",
       "7498               NaN             NaN     NaN        NaN  \n",
       "7499               NaN             NaN     NaN        NaN  \n",
       "\n",
       "[7500 rows x 20 columns]"
      ]
     },
     "execution_count": 2,
     "metadata": {},
     "output_type": "execute_result"
    }
   ],
   "source": [
    "import pandas as pd\n",
    "data=pd.read_csv(r'Downloads/Market_Basket_Optimisation.csv')\n",
    "data"
   ]
  },
  {
   "cell_type": "code",
   "execution_count": 3,
   "id": "17d14cc1",
   "metadata": {
    "ExecuteTime": {
     "end_time": "2022-08-28T20:37:43.021051Z",
     "start_time": "2022-08-28T20:37:42.963625Z"
    }
   },
   "outputs": [
    {
     "name": "stdout",
     "output_type": "stream",
     "text": [
      "<class 'pandas.core.frame.DataFrame'>\n",
      "RangeIndex: 7500 entries, 0 to 7499\n",
      "Data columns (total 20 columns):\n",
      " #   Column             Non-Null Count  Dtype  \n",
      "---  ------             --------------  -----  \n",
      " 0   shrimp             7500 non-null   object \n",
      " 1   almonds            5746 non-null   object \n",
      " 2   avocado            4388 non-null   object \n",
      " 3   vegetables mix     3344 non-null   object \n",
      " 4   green grapes       2528 non-null   object \n",
      " 5   whole weat flour   1863 non-null   object \n",
      " 6   yams               1368 non-null   object \n",
      " 7   cottage cheese     980 non-null    object \n",
      " 8   energy drink       653 non-null    object \n",
      " 9   tomato juice       394 non-null    object \n",
      " 10  low fat yogurt     255 non-null    object \n",
      " 11  green tea          153 non-null    object \n",
      " 12  honey              86 non-null     object \n",
      " 13  salad              46 non-null     object \n",
      " 14  mineral water      24 non-null     object \n",
      " 15  salmon             7 non-null      object \n",
      " 16  antioxydant juice  3 non-null      object \n",
      " 17  frozen smoothie    3 non-null      object \n",
      " 18  spinach            2 non-null      object \n",
      " 19  olive oil          0 non-null      float64\n",
      "dtypes: float64(1), object(19)\n",
      "memory usage: 1.1+ MB\n"
     ]
    }
   ],
   "source": [
    "data.info()"
   ]
  },
  {
   "cell_type": "markdown",
   "id": "4d9b005a",
   "metadata": {},
   "source": [
    "# Preprocessing phase"
   ]
  },
  {
   "cell_type": "code",
   "execution_count": 4,
   "id": "7c714f0e",
   "metadata": {
    "ExecuteTime": {
     "end_time": "2022-08-28T20:37:44.207650Z",
     "start_time": "2022-08-28T20:37:44.166231Z"
    },
    "scrolled": false
   },
   "outputs": [
    {
     "data": {
      "text/plain": [
       "shrimp                  0\n",
       "almonds              1754\n",
       "avocado              3112\n",
       "vegetables mix       4156\n",
       "green grapes         4972\n",
       "whole weat flour     5637\n",
       "yams                 6132\n",
       "cottage cheese       6520\n",
       "energy drink         6847\n",
       "tomato juice         7106\n",
       "low fat yogurt       7245\n",
       "green tea            7347\n",
       "honey                7414\n",
       "salad                7454\n",
       "mineral water        7476\n",
       "salmon               7493\n",
       "antioxydant juice    7497\n",
       "frozen smoothie      7497\n",
       "spinach              7498\n",
       "olive oil            7500\n",
       "dtype: int64"
      ]
     },
     "execution_count": 4,
     "metadata": {},
     "output_type": "execute_result"
    }
   ],
   "source": [
    "data.isnull().sum()"
   ]
  },
  {
   "cell_type": "code",
   "execution_count": 5,
   "id": "718a795b",
   "metadata": {
    "ExecuteTime": {
     "end_time": "2022-08-28T20:37:45.075118Z",
     "start_time": "2022-08-28T20:37:45.051478Z"
    }
   },
   "outputs": [
    {
     "name": "stdout",
     "output_type": "stream",
     "text": [
      "7500\n",
      "mineral water    484\n",
      "spaghetti        411\n",
      "eggs             302\n",
      "ground beef      291\n",
      "french fries     243\n",
      "                ... \n",
      "shampoo            2\n",
      "water spray        1\n",
      "chili              1\n",
      "cream              1\n",
      "cauliflower        1\n",
      "Name: almonds, Length: 117, dtype: int64\n"
     ]
    },
    {
     "data": {
      "text/plain": [
       "0               meatballs\n",
       "1          mineral water \n",
       "2                 avocado\n",
       "3                    milk\n",
       "4          mineral water \n",
       "              ...        \n",
       "7495           light mayo\n",
       "7496    frozen vegetables\n",
       "7497       mineral water \n",
       "7498            green tea\n",
       "7499      frozen smoothie\n",
       "Name: almonds, Length: 7500, dtype: object"
      ]
     },
     "execution_count": 5,
     "metadata": {},
     "output_type": "execute_result"
    }
   ],
   "source": [
    "#Completing almonds column\n",
    "elements=len(data['almonds'])\n",
    "print(elements)\n",
    "print(data['almonds'].value_counts())\n",
    "data['almonds'].fillna('mineral water ', inplace=True)\n",
    "data['almonds']"
   ]
  },
  {
   "cell_type": "code",
   "execution_count": 6,
   "id": "95639f4b",
   "metadata": {
    "ExecuteTime": {
     "end_time": "2022-08-28T20:37:45.674646Z",
     "start_time": "2022-08-28T20:37:45.649632Z"
    }
   },
   "outputs": [
    {
     "name": "stdout",
     "output_type": "stream",
     "text": [
      "7500\n",
      "mineral water       375\n",
      "spaghetti           279\n",
      "eggs                225\n",
      "milk                213\n",
      "french fries        180\n",
      "                   ... \n",
      "pickles               1\n",
      "cream                 1\n",
      "water spray           1\n",
      "hand protein bar      1\n",
      "cauliflower           1\n",
      "Name: avocado, Length: 115, dtype: int64\n"
     ]
    },
    {
     "data": {
      "text/plain": [
       "0                 eggs\n",
       "1       mineral water \n",
       "2       mineral water \n",
       "3           energy bar\n",
       "4       mineral water \n",
       "             ...      \n",
       "7495       fresh bread\n",
       "7496              eggs\n",
       "7497    mineral water \n",
       "7498    mineral water \n",
       "7499       yogurt cake\n",
       "Name: avocado, Length: 7500, dtype: object"
      ]
     },
     "execution_count": 6,
     "metadata": {},
     "output_type": "execute_result"
    }
   ],
   "source": [
    "#Completing avocado column\n",
    "elements=len(data['avocado'])\n",
    "print(elements)\n",
    "print(data['avocado'].value_counts())\n",
    "data['avocado'].fillna('mineral water ', inplace=True)\n",
    "data['avocado']"
   ]
  },
  {
   "cell_type": "code",
   "execution_count": 7,
   "id": "ce9e175b",
   "metadata": {
    "ExecuteTime": {
     "end_time": "2022-08-28T20:37:46.307104Z",
     "start_time": "2022-08-28T20:37:46.283577Z"
    }
   },
   "outputs": [
    {
     "name": "stdout",
     "output_type": "stream",
     "text": [
      "7500\n",
      "mineral water    201\n",
      "eggs             181\n",
      "french fries     174\n",
      "spaghetti        167\n",
      "milk             149\n",
      "                ... \n",
      "ham                1\n",
      "napkins            1\n",
      "water spray        1\n",
      "cream              1\n",
      "salad              1\n",
      "Name: vegetables mix, Length: 114, dtype: int64\n"
     ]
    },
    {
     "data": {
      "text/plain": [
       "0          mineral water\n",
       "1          mineral water\n",
       "2          mineral water\n",
       "3       whole wheat rice\n",
       "4          mineral water\n",
       "              ...       \n",
       "7495       mineral water\n",
       "7496        french fries\n",
       "7497       mineral water\n",
       "7498       mineral water\n",
       "7499      low fat yogurt\n",
       "Name: vegetables mix, Length: 7500, dtype: object"
      ]
     },
     "execution_count": 7,
     "metadata": {},
     "output_type": "execute_result"
    }
   ],
   "source": [
    "#Completing vegetables mix column\n",
    "elements=len(data['vegetables mix'])\n",
    "print(elements)\n",
    "print(data['vegetables mix'].value_counts())\n",
    "data['vegetables mix'].fillna('mineral water', inplace= True )\n",
    "data['vegetables mix']"
   ]
  },
  {
   "cell_type": "code",
   "execution_count": 8,
   "id": "2745ef0f",
   "metadata": {
    "ExecuteTime": {
     "end_time": "2022-08-28T20:37:46.937613Z",
     "start_time": "2022-08-28T20:37:46.911028Z"
    }
   },
   "outputs": [
    {
     "name": "stdout",
     "output_type": "stream",
     "text": [
      "7500\n",
      "green tea            153\n",
      "eggs                 134\n",
      "french fries         130\n",
      "chocolate            115\n",
      "milk                 114\n",
      "                    ... \n",
      "bramble                2\n",
      "frozen vegetables      2\n",
      "babies food            2\n",
      "tomatoes               1\n",
      "cream                  1\n",
      "Name: green grapes, Length: 110, dtype: int64\n"
     ]
    },
    {
     "data": {
      "text/plain": [
       "0       green tea\n",
       "1       green tea\n",
       "2       green tea\n",
       "3       green tea\n",
       "4       green tea\n",
       "          ...    \n",
       "7495    green tea\n",
       "7496    magazines\n",
       "7497    green tea\n",
       "7498    green tea\n",
       "7499    green tea\n",
       "Name: green grapes, Length: 7500, dtype: object"
      ]
     },
     "execution_count": 8,
     "metadata": {},
     "output_type": "execute_result"
    }
   ],
   "source": [
    "#Completing green grapes column\n",
    "elements=len(data['green grapes'])\n",
    "print(elements)\n",
    "print(data['green grapes'].value_counts())\n",
    "data['green grapes'].fillna('green tea', inplace=True)\n",
    "data['green grapes']"
   ]
  },
  {
   "cell_type": "code",
   "execution_count": 9,
   "id": "9bf9cc45",
   "metadata": {
    "ExecuteTime": {
     "end_time": "2022-08-28T20:37:47.508680Z",
     "start_time": "2022-08-28T20:37:47.483578Z"
    }
   },
   "outputs": [
    {
     "name": "stdout",
     "output_type": "stream",
     "text": [
      "7500\n",
      "french fries     107\n",
      "eggs             102\n",
      "green tea        100\n",
      "chocolate         71\n",
      "pancakes          69\n",
      "                ... \n",
      "mashed potato      1\n",
      "bramble            1\n",
      "spinach            1\n",
      "yams               1\n",
      "candy bars         1\n",
      "Name: whole weat flour, Length: 106, dtype: int64\n"
     ]
    },
    {
     "data": {
      "text/plain": [
       "0       french fries\n",
       "1       french fries\n",
       "2       french fries\n",
       "3       french fries\n",
       "4       french fries\n",
       "            ...     \n",
       "7495    french fries\n",
       "7496       green tea\n",
       "7497    french fries\n",
       "7498    french fries\n",
       "7499    french fries\n",
       "Name: whole weat flour, Length: 7500, dtype: object"
      ]
     },
     "execution_count": 9,
     "metadata": {},
     "output_type": "execute_result"
    }
   ],
   "source": [
    "#Completing whole weat flour column\n",
    "elements=len(data['whole weat flour'])\n",
    "print(elements)\n",
    "print(data['whole weat flour'].value_counts())\n",
    "data['whole weat flour'].fillna('french fries', inplace=True)\n",
    "data['whole weat flour']"
   ]
  },
  {
   "cell_type": "code",
   "execution_count": 10,
   "id": "7099c586",
   "metadata": {
    "ExecuteTime": {
     "end_time": "2022-08-28T20:37:48.107337Z",
     "start_time": "2022-08-28T20:37:48.081696Z"
    }
   },
   "outputs": [
    {
     "name": "stdout",
     "output_type": "stream",
     "text": [
      "7500\n",
      "green tea          96\n",
      "french fries       81\n",
      "pancakes           69\n",
      "eggs               59\n",
      "low fat yogurt     55\n",
      "                   ..\n",
      "yams                1\n",
      "parmesan cheese     1\n",
      "chocolate bread     1\n",
      "mint green tea      1\n",
      "pepper              1\n",
      "Name: yams, Length: 102, dtype: int64\n"
     ]
    },
    {
     "data": {
      "text/plain": [
       "0       green tea\n",
       "1       green tea\n",
       "2       green tea\n",
       "3       green tea\n",
       "4       green tea\n",
       "          ...    \n",
       "7495    green tea\n",
       "7496    green tea\n",
       "7497    green tea\n",
       "7498    green tea\n",
       "7499    green tea\n",
       "Name: yams, Length: 7500, dtype: object"
      ]
     },
     "execution_count": 10,
     "metadata": {},
     "output_type": "execute_result"
    }
   ],
   "source": [
    "#Completing yams column\n",
    "elements=len(data['yams'])\n",
    "print(elements)\n",
    "print(data['yams'].value_counts())\n",
    "data['yams'].fillna('green tea', inplace=True)\n",
    "data['yams']"
   ]
  },
  {
   "cell_type": "code",
   "execution_count": 11,
   "id": "875339c1",
   "metadata": {
    "ExecuteTime": {
     "end_time": "2022-08-28T20:37:48.691019Z",
     "start_time": "2022-08-28T20:37:48.664806Z"
    }
   },
   "outputs": [
    {
     "name": "stdout",
     "output_type": "stream",
     "text": [
      "7500\n",
      "green tea         67\n",
      "pancakes          44\n",
      "low fat yogurt    43\n",
      "french fries      40\n",
      "chocolate         38\n",
      "                  ..\n",
      "soda               1\n",
      "flax seed          1\n",
      "babies food        1\n",
      " asparagus         1\n",
      "soup               1\n",
      "Name: cottage cheese, Length: 98, dtype: int64\n"
     ]
    },
    {
     "data": {
      "text/plain": [
       "0       green tea\n",
       "1       green tea\n",
       "2       green tea\n",
       "3       green tea\n",
       "4       green tea\n",
       "          ...    \n",
       "7495    green tea\n",
       "7496    green tea\n",
       "7497    green tea\n",
       "7498    green tea\n",
       "7499    green tea\n",
       "Name: cottage cheese, Length: 7500, dtype: object"
      ]
     },
     "execution_count": 11,
     "metadata": {},
     "output_type": "execute_result"
    }
   ],
   "source": [
    "#Completing cottage cheese column\n",
    "elements=len(data['cottage cheese'])\n",
    "print(elements)\n",
    "print(data['cottage cheese'].value_counts())\n",
    "data['cottage cheese'].fillna('green tea', inplace=True)\n",
    "data['cottage cheese']"
   ]
  },
  {
   "cell_type": "code",
   "execution_count": 12,
   "id": "77a34765",
   "metadata": {
    "ExecuteTime": {
     "end_time": "2022-08-28T20:37:49.337111Z",
     "start_time": "2022-08-28T20:37:49.311068Z"
    }
   },
   "outputs": [
    {
     "name": "stdout",
     "output_type": "stream",
     "text": [
      "7500\n",
      "green tea          57\n",
      "low fat yogurt     38\n",
      "frozen smoothie    35\n",
      "french fries       34\n",
      "fresh bread        28\n",
      "                   ..\n",
      "cider               1\n",
      "avocado             1\n",
      "soup                1\n",
      "energy bar          1\n",
      "candy bars          1\n",
      "Name: energy drink, Length: 88, dtype: int64\n"
     ]
    },
    {
     "data": {
      "text/plain": [
       "0       green tea\n",
       "1       green tea\n",
       "2       green tea\n",
       "3       green tea\n",
       "4       green tea\n",
       "          ...    \n",
       "7495    green tea\n",
       "7496    green tea\n",
       "7497    green tea\n",
       "7498    green tea\n",
       "7499    green tea\n",
       "Name: energy drink, Length: 7500, dtype: object"
      ]
     },
     "execution_count": 12,
     "metadata": {},
     "output_type": "execute_result"
    }
   ],
   "source": [
    "#Completing energy drink column\n",
    "elements=len(data['energy drink'])\n",
    "print(elements)\n",
    "print(data['energy drink'].value_counts())\n",
    "data['energy drink'].fillna('green tea', inplace=True)\n",
    "data['energy drink']"
   ]
  },
  {
   "cell_type": "code",
   "execution_count": 13,
   "id": "99306fc9",
   "metadata": {
    "ExecuteTime": {
     "end_time": "2022-08-28T20:37:49.967532Z",
     "start_time": "2022-08-28T20:37:49.942152Z"
    }
   },
   "outputs": [
    {
     "name": "stdout",
     "output_type": "stream",
     "text": [
      "7500\n",
      "green tea         31\n",
      "french fries      19\n",
      "low fat yogurt    17\n",
      "tomato juice      16\n",
      "pancakes          14\n",
      "                  ..\n",
      "babies food        1\n",
      "tea                1\n",
      "mashed potato      1\n",
      "candy bars         1\n",
      "napkins            1\n",
      "Name: tomato juice, Length: 80, dtype: int64\n"
     ]
    },
    {
     "data": {
      "text/plain": [
       "0       green tea\n",
       "1       green tea\n",
       "2       green tea\n",
       "3       green tea\n",
       "4       green tea\n",
       "          ...    \n",
       "7495    green tea\n",
       "7496    green tea\n",
       "7497    green tea\n",
       "7498    green tea\n",
       "7499    green tea\n",
       "Name: tomato juice, Length: 7500, dtype: object"
      ]
     },
     "execution_count": 13,
     "metadata": {},
     "output_type": "execute_result"
    }
   ],
   "source": [
    "#Completing tomato juice column\n",
    "elements=len(data['tomato juice'])\n",
    "print(elements)\n",
    "print(data['tomato juice'].value_counts())\n",
    "data['tomato juice'].fillna('green tea', inplace=True)\n",
    "data['tomato juice']"
   ]
  },
  {
   "cell_type": "code",
   "execution_count": 14,
   "id": "01f62130",
   "metadata": {
    "ExecuteTime": {
     "end_time": "2022-08-28T20:37:50.613185Z",
     "start_time": "2022-08-28T20:37:50.588228Z"
    }
   },
   "outputs": [
    {
     "name": "stdout",
     "output_type": "stream",
     "text": [
      "7500\n",
      "low fat yogurt          21\n",
      "green tea               20\n",
      "fresh bread             14\n",
      "french fries            12\n",
      "light mayo               9\n",
      "                        ..\n",
      "mushroom cream sauce     1\n",
      "salad                    1\n",
      "mayonnaise               1\n",
      "sandwich                 1\n",
      "asparagus                1\n",
      "Name: low fat yogurt, Length: 66, dtype: int64\n"
     ]
    },
    {
     "data": {
      "text/plain": [
       "0       low fat yogurt\n",
       "1       low fat yogurt\n",
       "2       low fat yogurt\n",
       "3       low fat yogurt\n",
       "4       low fat yogurt\n",
       "             ...      \n",
       "7495    low fat yogurt\n",
       "7496    low fat yogurt\n",
       "7497    low fat yogurt\n",
       "7498    low fat yogurt\n",
       "7499    low fat yogurt\n",
       "Name: low fat yogurt, Length: 7500, dtype: object"
      ]
     },
     "execution_count": 14,
     "metadata": {},
     "output_type": "execute_result"
    }
   ],
   "source": [
    "#Completing low fat yogurt column\n",
    "elements=len(data['low fat yogurt'])\n",
    "print(elements)\n",
    "print(data['low fat yogurt'].value_counts())\n",
    "data['low fat yogurt'].fillna('low fat yogurt', inplace=True)\n",
    "data['low fat yogurt']"
   ]
  },
  {
   "cell_type": "code",
   "execution_count": 15,
   "id": "9f25d50e",
   "metadata": {
    "ExecuteTime": {
     "end_time": "2022-08-28T20:37:51.069463Z",
     "start_time": "2022-08-28T20:37:51.059395Z"
    }
   },
   "outputs": [
    {
     "name": "stdout",
     "output_type": "stream",
     "text": [
      "7500\n",
      "green tea               14\n",
      "french fries            10\n",
      "frozen smoothie         10\n",
      "low fat yogurt           9\n",
      "fresh bread              7\n",
      "tomato juice             7\n",
      "pancakes                 7\n",
      "mint                     4\n",
      "honey                    4\n",
      "hot dogs                 3\n",
      "mushroom cream sauce     3\n",
      "chocolate                3\n",
      "energy drink             3\n",
      "cottage cheese           3\n",
      "light mayo               3\n",
      "melons                   3\n",
      "cereals                  3\n",
      "cookies                  3\n",
      "protein bar              3\n",
      "cake                     3\n",
      "mayonnaise               3\n",
      "escalope                 3\n",
      "white wine               3\n",
      "magazines                3\n",
      "whole weat flour         2\n",
      "shampoo                  2\n",
      "candy bars               2\n",
      "champagne                2\n",
      "brownies                 2\n",
      "salt                     2\n",
      "whole wheat rice         2\n",
      "eggs                     2\n",
      "extra dark chocolate     2\n",
      "ketchup                  2\n",
      "strawberries             1\n",
      "zucchini                 1\n",
      "toothpaste               1\n",
      "body spray               1\n",
      "cooking oil              1\n",
      "strong cheese            1\n",
      "rice                     1\n",
      "blueberries              1\n",
      "green grapes             1\n",
      "chicken                  1\n",
      "mashed potato            1\n",
      "corn                     1\n",
      "vegetables mix           1\n",
      "eggplant                 1\n",
      "ham                      1\n",
      "gluten free bar          1\n",
      "Name: green tea, dtype: int64\n"
     ]
    },
    {
     "data": {
      "text/plain": [
       "0       green tea\n",
       "1       green tea\n",
       "2       green tea\n",
       "3       green tea\n",
       "4       green tea\n",
       "          ...    \n",
       "7495    green tea\n",
       "7496    green tea\n",
       "7497    green tea\n",
       "7498    green tea\n",
       "7499    green tea\n",
       "Name: green tea, Length: 7500, dtype: object"
      ]
     },
     "execution_count": 15,
     "metadata": {},
     "output_type": "execute_result"
    }
   ],
   "source": [
    "#Completing green tea column\n",
    "elements=len(data['green tea'])\n",
    "print(elements)\n",
    "print(data['green tea'].value_counts())\n",
    "data['green tea'].fillna('green tea', inplace=True)\n",
    "data['green tea']"
   ]
  },
  {
   "cell_type": "code",
   "execution_count": 16,
   "id": "43891b59",
   "metadata": {
    "ExecuteTime": {
     "end_time": "2022-08-28T20:37:51.746333Z",
     "start_time": "2022-08-28T20:37:51.735290Z"
    }
   },
   "outputs": [
    {
     "name": "stdout",
     "output_type": "stream",
     "text": [
      "7500\n",
      "green tea           8\n",
      "fresh bread         6\n",
      "low fat yogurt      6\n",
      "escalope            4\n",
      "tomato juice        4\n",
      "french fries        4\n",
      "brownies            3\n",
      "hot dogs            3\n",
      "melons              3\n",
      "salt                3\n",
      "frozen smoothie     2\n",
      "yogurt cake         2\n",
      "sparkling water     2\n",
      "nonfat milk         2\n",
      "light mayo          2\n",
      "pancakes            2\n",
      "energy drink        2\n",
      "gums                2\n",
      "protein bar         2\n",
      "mint                2\n",
      "cottage cheese      1\n",
      "mashed potato       1\n",
      "cereals             1\n",
      "cauliflower         1\n",
      "barbecue sauce      1\n",
      "magazines           1\n",
      "asparagus           1\n",
      "bug spray           1\n",
      "toothpaste          1\n",
      "whole wheat rice    1\n",
      "tea                 1\n",
      "ham                 1\n",
      "eggplant            1\n",
      "salad               1\n",
      "champagne           1\n",
      "cookies             1\n",
      "white wine          1\n",
      "burger sauce        1\n",
      "cooking oil         1\n",
      "oil                 1\n",
      "corn                1\n",
      "zucchini            1\n",
      "Name: honey, dtype: int64\n"
     ]
    },
    {
     "data": {
      "text/plain": [
       "0       green tea\n",
       "1       green tea\n",
       "2       green tea\n",
       "3       green tea\n",
       "4       green tea\n",
       "          ...    \n",
       "7495    green tea\n",
       "7496    green tea\n",
       "7497    green tea\n",
       "7498    green tea\n",
       "7499    green tea\n",
       "Name: honey, Length: 7500, dtype: object"
      ]
     },
     "execution_count": 16,
     "metadata": {},
     "output_type": "execute_result"
    }
   ],
   "source": [
    "#Completing honey column\n",
    "elements=len(data['honey'])\n",
    "print(elements)\n",
    "print(data['honey'].value_counts())\n",
    "data['honey'].fillna('green tea', inplace=True)\n",
    "data['honey']"
   ]
  },
  {
   "cell_type": "code",
   "execution_count": 17,
   "id": "4d951c8c",
   "metadata": {
    "ExecuteTime": {
     "end_time": "2022-08-28T20:37:52.310813Z",
     "start_time": "2022-08-28T20:37:52.286091Z"
    }
   },
   "outputs": [
    {
     "name": "stdout",
     "output_type": "stream",
     "text": [
      "7500\n",
      "green tea               4\n",
      "french fries            3\n",
      "frozen smoothie         3\n",
      "mint                    2\n",
      "fresh bread             2\n",
      "toothpaste              2\n",
      "pancakes                2\n",
      "cottage cheese          2\n",
      "eggplant                2\n",
      "hot dogs                2\n",
      "oil                     2\n",
      "low fat yogurt          2\n",
      "gluten free bar         2\n",
      "escalope                2\n",
      "strawberries            1\n",
      "cookies                 1\n",
      "salad                   1\n",
      "yogurt cake             1\n",
      "eggs                    1\n",
      "light mayo              1\n",
      "mushroom cream sauce    1\n",
      "protein bar             1\n",
      "hand protein bar        1\n",
      "salt                    1\n",
      "babies food             1\n",
      "muffins                 1\n",
      "mineral water           1\n",
      "tomato juice            1\n",
      "Name: salad, dtype: int64\n"
     ]
    },
    {
     "data": {
      "text/plain": [
       "0       green tea\n",
       "1       green tea\n",
       "2       green tea\n",
       "3       green tea\n",
       "4       green tea\n",
       "          ...    \n",
       "7495    green tea\n",
       "7496    green tea\n",
       "7497    green tea\n",
       "7498    green tea\n",
       "7499    green tea\n",
       "Name: salad, Length: 7500, dtype: object"
      ]
     },
     "execution_count": 17,
     "metadata": {},
     "output_type": "execute_result"
    }
   ],
   "source": [
    "#Completing salad column\n",
    "elements=len(data['salad'])\n",
    "print(elements)\n",
    "print(data['salad'].value_counts())\n",
    "data['salad'].fillna('green tea', inplace=True)\n",
    "data['salad']"
   ]
  },
  {
   "cell_type": "code",
   "execution_count": 18,
   "id": "a20f1e28",
   "metadata": {
    "ExecuteTime": {
     "end_time": "2022-08-28T20:37:52.862527Z",
     "start_time": "2022-08-28T20:37:52.837147Z"
    }
   },
   "outputs": [
    {
     "name": "stdout",
     "output_type": "stream",
     "text": [
      "7500\n",
      "magazines               3\n",
      "fresh bread             2\n",
      "pancakes                2\n",
      "green tea               2\n",
      "low fat yogurt          2\n",
      "cereals                 1\n",
      "mint                    1\n",
      "yogurt cake             1\n",
      "hand protein bar        1\n",
      "toothpaste              1\n",
      "hot dogs                1\n",
      "salmon                  1\n",
      "tomato juice            1\n",
      "zucchini                1\n",
      "cookies                 1\n",
      "clothes accessories     1\n",
      "candy bars              1\n",
      "mushroom cream sauce    1\n",
      "Name: mineral water, dtype: int64\n"
     ]
    },
    {
     "data": {
      "text/plain": [
       "0       magazines\n",
       "1       magazines\n",
       "2       magazines\n",
       "3       magazines\n",
       "4       magazines\n",
       "          ...    \n",
       "7495    magazines\n",
       "7496    magazines\n",
       "7497    magazines\n",
       "7498    magazines\n",
       "7499    magazines\n",
       "Name: mineral water, Length: 7500, dtype: object"
      ]
     },
     "execution_count": 18,
     "metadata": {},
     "output_type": "execute_result"
    }
   ],
   "source": [
    "#Completing mineral water column\n",
    "elements=len(data['mineral water'])\n",
    "print(elements)\n",
    "print(data['mineral water'].value_counts())\n",
    "data['mineral water'].fillna('magazines', inplace=True)\n",
    "data['mineral water']"
   ]
  },
  {
   "cell_type": "code",
   "execution_count": 19,
   "id": "04b78b00",
   "metadata": {
    "ExecuteTime": {
     "end_time": "2022-08-28T20:37:53.427820Z",
     "start_time": "2022-08-28T20:37:53.418496Z"
    }
   },
   "outputs": [
    {
     "name": "stdout",
     "output_type": "stream",
     "text": [
      "7500\n",
      "chocolate            1\n",
      "antioxydant juice    1\n",
      "frozen smoothie      1\n",
      "cake                 1\n",
      "sparkling water      1\n",
      "protein bar          1\n",
      "magazines            1\n",
      "Name: salmon, dtype: int64\n"
     ]
    },
    {
     "data": {
      "text/plain": [
       "0       chocolate\n",
       "1       chocolate\n",
       "2       chocolate\n",
       "3       chocolate\n",
       "4       chocolate\n",
       "          ...    \n",
       "7495    chocolate\n",
       "7496    chocolate\n",
       "7497    chocolate\n",
       "7498    chocolate\n",
       "7499    chocolate\n",
       "Name: salmon, Length: 7500, dtype: object"
      ]
     },
     "execution_count": 19,
     "metadata": {},
     "output_type": "execute_result"
    }
   ],
   "source": [
    "#Completing salmon column\n",
    "elements=len(data['salmon'])\n",
    "print(elements)\n",
    "print(data['salmon'].value_counts())\n",
    "data['salmon'].fillna('chocolate', inplace=True)\n",
    "data['salmon']"
   ]
  },
  {
   "cell_type": "code",
   "execution_count": 20,
   "id": "0bae76a3",
   "metadata": {
    "ExecuteTime": {
     "end_time": "2022-08-28T20:37:54.103447Z",
     "start_time": "2022-08-28T20:37:54.080795Z"
    }
   },
   "outputs": [
    {
     "name": "stdout",
     "output_type": "stream",
     "text": [
      "7500\n",
      "frozen smoothie    2\n",
      "french fries       1\n",
      "Name: antioxydant juice, dtype: int64\n"
     ]
    },
    {
     "data": {
      "text/plain": [
       "0       frozen smoothie\n",
       "1       frozen smoothie\n",
       "2       frozen smoothie\n",
       "3       frozen smoothie\n",
       "4       frozen smoothie\n",
       "             ...       \n",
       "7495    frozen smoothie\n",
       "7496    frozen smoothie\n",
       "7497    frozen smoothie\n",
       "7498    frozen smoothie\n",
       "7499    frozen smoothie\n",
       "Name: antioxydant juice, Length: 7500, dtype: object"
      ]
     },
     "execution_count": 20,
     "metadata": {},
     "output_type": "execute_result"
    }
   ],
   "source": [
    "#Completing antioxydant juice column\n",
    "elements=len(data['antioxydant juice'])\n",
    "print(elements)\n",
    "print(data['antioxydant juice'].value_counts())\n",
    "data['antioxydant juice'].fillna('frozen smoothie', inplace=True)\n",
    "data['antioxydant juice']"
   ]
  },
  {
   "cell_type": "code",
   "execution_count": 21,
   "id": "b0827b3c",
   "metadata": {
    "ExecuteTime": {
     "end_time": "2022-08-28T20:37:54.689770Z",
     "start_time": "2022-08-28T20:37:54.679942Z"
    }
   },
   "outputs": [
    {
     "name": "stdout",
     "output_type": "stream",
     "text": [
      "7500\n",
      "protein bar    2\n",
      "spinach        1\n",
      "Name: frozen smoothie, dtype: int64\n"
     ]
    },
    {
     "data": {
      "text/plain": [
       "0       protein bar\n",
       "1       protein bar\n",
       "2       protein bar\n",
       "3       protein bar\n",
       "4       protein bar\n",
       "           ...     \n",
       "7495    protein bar\n",
       "7496    protein bar\n",
       "7497    protein bar\n",
       "7498    protein bar\n",
       "7499    protein bar\n",
       "Name: frozen smoothie, Length: 7500, dtype: object"
      ]
     },
     "execution_count": 21,
     "metadata": {},
     "output_type": "execute_result"
    }
   ],
   "source": [
    "#Completing frozen smoothie column\n",
    "elements=len(data['frozen smoothie'])\n",
    "print(elements)\n",
    "print(data['frozen smoothie'].value_counts())\n",
    "data['frozen smoothie'].fillna('protein bar', inplace=True)\n",
    "data['frozen smoothie']"
   ]
  },
  {
   "cell_type": "code",
   "execution_count": 22,
   "id": "8438e2bb",
   "metadata": {
    "ExecuteTime": {
     "end_time": "2022-08-28T20:37:55.319420Z",
     "start_time": "2022-08-28T20:37:55.294134Z"
    }
   },
   "outputs": [
    {
     "name": "stdout",
     "output_type": "stream",
     "text": [
      "7500\n",
      "mayonnaise    1\n",
      "cereals       1\n",
      "Name: spinach, dtype: int64\n"
     ]
    },
    {
     "data": {
      "text/plain": [
       "0       mayonnaise\n",
       "1       mayonnaise\n",
       "2       mayonnaise\n",
       "3       mayonnaise\n",
       "4       mayonnaise\n",
       "           ...    \n",
       "7495    mayonnaise\n",
       "7496    mayonnaise\n",
       "7497    mayonnaise\n",
       "7498    mayonnaise\n",
       "7499    mayonnaise\n",
       "Name: spinach, Length: 7500, dtype: object"
      ]
     },
     "execution_count": 22,
     "metadata": {},
     "output_type": "execute_result"
    }
   ],
   "source": [
    "#Completing spinach column\n",
    "elements=len(data['spinach'])\n",
    "print(elements)\n",
    "print(data['spinach'].value_counts())\n",
    "data['spinach'].fillna('mayonnaise', inplace=True)\n",
    "data['spinach']"
   ]
  },
  {
   "cell_type": "code",
   "execution_count": 23,
   "id": "e3b6fe29",
   "metadata": {
    "ExecuteTime": {
     "end_time": "2022-08-28T20:37:55.999031Z",
     "start_time": "2022-08-28T20:37:55.972836Z"
    }
   },
   "outputs": [
    {
     "name": "stdout",
     "output_type": "stream",
     "text": [
      "7500\n",
      "Series([], Name: olive oil, dtype: int64)\n"
     ]
    },
    {
     "data": {
      "text/plain": [
       "0       olive oil\n",
       "1       olive oil\n",
       "2       olive oil\n",
       "3       olive oil\n",
       "4       olive oil\n",
       "          ...    \n",
       "7495    olive oil\n",
       "7496    olive oil\n",
       "7497    olive oil\n",
       "7498    olive oil\n",
       "7499    olive oil\n",
       "Name: olive oil, Length: 7500, dtype: object"
      ]
     },
     "execution_count": 23,
     "metadata": {},
     "output_type": "execute_result"
    }
   ],
   "source": [
    "#Completing olive oil column\n",
    "elements=len(data['olive oil'])\n",
    "print(elements)\n",
    "print(data['olive oil'].value_counts())\n",
    "data['olive oil'].fillna('olive oil', inplace=True)\n",
    "data['olive oil']"
   ]
  },
  {
   "cell_type": "code",
   "execution_count": 24,
   "id": "8def6897",
   "metadata": {
    "ExecuteTime": {
     "end_time": "2022-08-28T20:37:56.657047Z",
     "start_time": "2022-08-28T20:37:56.617708Z"
    }
   },
   "outputs": [
    {
     "data": {
      "text/plain": [
       "shrimp               0\n",
       "almonds              0\n",
       "avocado              0\n",
       "vegetables mix       0\n",
       "green grapes         0\n",
       "whole weat flour     0\n",
       "yams                 0\n",
       "cottage cheese       0\n",
       "energy drink         0\n",
       "tomato juice         0\n",
       "low fat yogurt       0\n",
       "green tea            0\n",
       "honey                0\n",
       "salad                0\n",
       "mineral water        0\n",
       "salmon               0\n",
       "antioxydant juice    0\n",
       "frozen smoothie      0\n",
       "spinach              0\n",
       "olive oil            0\n",
       "dtype: int64"
      ]
     },
     "execution_count": 24,
     "metadata": {},
     "output_type": "execute_result"
    }
   ],
   "source": [
    "data.isnull().sum()"
   ]
  },
  {
   "cell_type": "code",
   "execution_count": 25,
   "id": "cb94174f",
   "metadata": {
    "ExecuteTime": {
     "end_time": "2022-08-28T20:37:57.323246Z",
     "start_time": "2022-08-28T20:37:57.281654Z"
    }
   },
   "outputs": [
    {
     "data": {
      "text/html": [
       "<div>\n",
       "<style scoped>\n",
       "    .dataframe tbody tr th:only-of-type {\n",
       "        vertical-align: middle;\n",
       "    }\n",
       "\n",
       "    .dataframe tbody tr th {\n",
       "        vertical-align: top;\n",
       "    }\n",
       "\n",
       "    .dataframe thead th {\n",
       "        text-align: right;\n",
       "    }\n",
       "</style>\n",
       "<table border=\"1\" class=\"dataframe\">\n",
       "  <thead>\n",
       "    <tr style=\"text-align: right;\">\n",
       "      <th></th>\n",
       "      <th>shrimp</th>\n",
       "      <th>almonds</th>\n",
       "      <th>avocado</th>\n",
       "      <th>vegetables mix</th>\n",
       "      <th>green grapes</th>\n",
       "      <th>whole weat flour</th>\n",
       "      <th>yams</th>\n",
       "      <th>cottage cheese</th>\n",
       "      <th>energy drink</th>\n",
       "      <th>tomato juice</th>\n",
       "      <th>low fat yogurt</th>\n",
       "      <th>green tea</th>\n",
       "      <th>honey</th>\n",
       "      <th>salad</th>\n",
       "      <th>mineral water</th>\n",
       "      <th>salmon</th>\n",
       "      <th>antioxydant juice</th>\n",
       "      <th>frozen smoothie</th>\n",
       "      <th>spinach</th>\n",
       "      <th>olive oil</th>\n",
       "    </tr>\n",
       "  </thead>\n",
       "  <tbody>\n",
       "    <tr>\n",
       "      <th>0</th>\n",
       "      <td>burgers</td>\n",
       "      <td>meatballs</td>\n",
       "      <td>eggs</td>\n",
       "      <td>mineral water</td>\n",
       "      <td>green tea</td>\n",
       "      <td>french fries</td>\n",
       "      <td>green tea</td>\n",
       "      <td>green tea</td>\n",
       "      <td>green tea</td>\n",
       "      <td>green tea</td>\n",
       "      <td>low fat yogurt</td>\n",
       "      <td>green tea</td>\n",
       "      <td>green tea</td>\n",
       "      <td>green tea</td>\n",
       "      <td>magazines</td>\n",
       "      <td>chocolate</td>\n",
       "      <td>frozen smoothie</td>\n",
       "      <td>protein bar</td>\n",
       "      <td>mayonnaise</td>\n",
       "      <td>olive oil</td>\n",
       "    </tr>\n",
       "    <tr>\n",
       "      <th>1</th>\n",
       "      <td>chutney</td>\n",
       "      <td>mineral water</td>\n",
       "      <td>mineral water</td>\n",
       "      <td>mineral water</td>\n",
       "      <td>green tea</td>\n",
       "      <td>french fries</td>\n",
       "      <td>green tea</td>\n",
       "      <td>green tea</td>\n",
       "      <td>green tea</td>\n",
       "      <td>green tea</td>\n",
       "      <td>low fat yogurt</td>\n",
       "      <td>green tea</td>\n",
       "      <td>green tea</td>\n",
       "      <td>green tea</td>\n",
       "      <td>magazines</td>\n",
       "      <td>chocolate</td>\n",
       "      <td>frozen smoothie</td>\n",
       "      <td>protein bar</td>\n",
       "      <td>mayonnaise</td>\n",
       "      <td>olive oil</td>\n",
       "    </tr>\n",
       "    <tr>\n",
       "      <th>2</th>\n",
       "      <td>turkey</td>\n",
       "      <td>avocado</td>\n",
       "      <td>mineral water</td>\n",
       "      <td>mineral water</td>\n",
       "      <td>green tea</td>\n",
       "      <td>french fries</td>\n",
       "      <td>green tea</td>\n",
       "      <td>green tea</td>\n",
       "      <td>green tea</td>\n",
       "      <td>green tea</td>\n",
       "      <td>low fat yogurt</td>\n",
       "      <td>green tea</td>\n",
       "      <td>green tea</td>\n",
       "      <td>green tea</td>\n",
       "      <td>magazines</td>\n",
       "      <td>chocolate</td>\n",
       "      <td>frozen smoothie</td>\n",
       "      <td>protein bar</td>\n",
       "      <td>mayonnaise</td>\n",
       "      <td>olive oil</td>\n",
       "    </tr>\n",
       "    <tr>\n",
       "      <th>3</th>\n",
       "      <td>mineral water</td>\n",
       "      <td>milk</td>\n",
       "      <td>energy bar</td>\n",
       "      <td>whole wheat rice</td>\n",
       "      <td>green tea</td>\n",
       "      <td>french fries</td>\n",
       "      <td>green tea</td>\n",
       "      <td>green tea</td>\n",
       "      <td>green tea</td>\n",
       "      <td>green tea</td>\n",
       "      <td>low fat yogurt</td>\n",
       "      <td>green tea</td>\n",
       "      <td>green tea</td>\n",
       "      <td>green tea</td>\n",
       "      <td>magazines</td>\n",
       "      <td>chocolate</td>\n",
       "      <td>frozen smoothie</td>\n",
       "      <td>protein bar</td>\n",
       "      <td>mayonnaise</td>\n",
       "      <td>olive oil</td>\n",
       "    </tr>\n",
       "    <tr>\n",
       "      <th>4</th>\n",
       "      <td>low fat yogurt</td>\n",
       "      <td>mineral water</td>\n",
       "      <td>mineral water</td>\n",
       "      <td>mineral water</td>\n",
       "      <td>green tea</td>\n",
       "      <td>french fries</td>\n",
       "      <td>green tea</td>\n",
       "      <td>green tea</td>\n",
       "      <td>green tea</td>\n",
       "      <td>green tea</td>\n",
       "      <td>low fat yogurt</td>\n",
       "      <td>green tea</td>\n",
       "      <td>green tea</td>\n",
       "      <td>green tea</td>\n",
       "      <td>magazines</td>\n",
       "      <td>chocolate</td>\n",
       "      <td>frozen smoothie</td>\n",
       "      <td>protein bar</td>\n",
       "      <td>mayonnaise</td>\n",
       "      <td>olive oil</td>\n",
       "    </tr>\n",
       "    <tr>\n",
       "      <th>...</th>\n",
       "      <td>...</td>\n",
       "      <td>...</td>\n",
       "      <td>...</td>\n",
       "      <td>...</td>\n",
       "      <td>...</td>\n",
       "      <td>...</td>\n",
       "      <td>...</td>\n",
       "      <td>...</td>\n",
       "      <td>...</td>\n",
       "      <td>...</td>\n",
       "      <td>...</td>\n",
       "      <td>...</td>\n",
       "      <td>...</td>\n",
       "      <td>...</td>\n",
       "      <td>...</td>\n",
       "      <td>...</td>\n",
       "      <td>...</td>\n",
       "      <td>...</td>\n",
       "      <td>...</td>\n",
       "      <td>...</td>\n",
       "    </tr>\n",
       "    <tr>\n",
       "      <th>7495</th>\n",
       "      <td>butter</td>\n",
       "      <td>light mayo</td>\n",
       "      <td>fresh bread</td>\n",
       "      <td>mineral water</td>\n",
       "      <td>green tea</td>\n",
       "      <td>french fries</td>\n",
       "      <td>green tea</td>\n",
       "      <td>green tea</td>\n",
       "      <td>green tea</td>\n",
       "      <td>green tea</td>\n",
       "      <td>low fat yogurt</td>\n",
       "      <td>green tea</td>\n",
       "      <td>green tea</td>\n",
       "      <td>green tea</td>\n",
       "      <td>magazines</td>\n",
       "      <td>chocolate</td>\n",
       "      <td>frozen smoothie</td>\n",
       "      <td>protein bar</td>\n",
       "      <td>mayonnaise</td>\n",
       "      <td>olive oil</td>\n",
       "    </tr>\n",
       "    <tr>\n",
       "      <th>7496</th>\n",
       "      <td>burgers</td>\n",
       "      <td>frozen vegetables</td>\n",
       "      <td>eggs</td>\n",
       "      <td>french fries</td>\n",
       "      <td>magazines</td>\n",
       "      <td>green tea</td>\n",
       "      <td>green tea</td>\n",
       "      <td>green tea</td>\n",
       "      <td>green tea</td>\n",
       "      <td>green tea</td>\n",
       "      <td>low fat yogurt</td>\n",
       "      <td>green tea</td>\n",
       "      <td>green tea</td>\n",
       "      <td>green tea</td>\n",
       "      <td>magazines</td>\n",
       "      <td>chocolate</td>\n",
       "      <td>frozen smoothie</td>\n",
       "      <td>protein bar</td>\n",
       "      <td>mayonnaise</td>\n",
       "      <td>olive oil</td>\n",
       "    </tr>\n",
       "    <tr>\n",
       "      <th>7497</th>\n",
       "      <td>chicken</td>\n",
       "      <td>mineral water</td>\n",
       "      <td>mineral water</td>\n",
       "      <td>mineral water</td>\n",
       "      <td>green tea</td>\n",
       "      <td>french fries</td>\n",
       "      <td>green tea</td>\n",
       "      <td>green tea</td>\n",
       "      <td>green tea</td>\n",
       "      <td>green tea</td>\n",
       "      <td>low fat yogurt</td>\n",
       "      <td>green tea</td>\n",
       "      <td>green tea</td>\n",
       "      <td>green tea</td>\n",
       "      <td>magazines</td>\n",
       "      <td>chocolate</td>\n",
       "      <td>frozen smoothie</td>\n",
       "      <td>protein bar</td>\n",
       "      <td>mayonnaise</td>\n",
       "      <td>olive oil</td>\n",
       "    </tr>\n",
       "    <tr>\n",
       "      <th>7498</th>\n",
       "      <td>escalope</td>\n",
       "      <td>green tea</td>\n",
       "      <td>mineral water</td>\n",
       "      <td>mineral water</td>\n",
       "      <td>green tea</td>\n",
       "      <td>french fries</td>\n",
       "      <td>green tea</td>\n",
       "      <td>green tea</td>\n",
       "      <td>green tea</td>\n",
       "      <td>green tea</td>\n",
       "      <td>low fat yogurt</td>\n",
       "      <td>green tea</td>\n",
       "      <td>green tea</td>\n",
       "      <td>green tea</td>\n",
       "      <td>magazines</td>\n",
       "      <td>chocolate</td>\n",
       "      <td>frozen smoothie</td>\n",
       "      <td>protein bar</td>\n",
       "      <td>mayonnaise</td>\n",
       "      <td>olive oil</td>\n",
       "    </tr>\n",
       "    <tr>\n",
       "      <th>7499</th>\n",
       "      <td>eggs</td>\n",
       "      <td>frozen smoothie</td>\n",
       "      <td>yogurt cake</td>\n",
       "      <td>low fat yogurt</td>\n",
       "      <td>green tea</td>\n",
       "      <td>french fries</td>\n",
       "      <td>green tea</td>\n",
       "      <td>green tea</td>\n",
       "      <td>green tea</td>\n",
       "      <td>green tea</td>\n",
       "      <td>low fat yogurt</td>\n",
       "      <td>green tea</td>\n",
       "      <td>green tea</td>\n",
       "      <td>green tea</td>\n",
       "      <td>magazines</td>\n",
       "      <td>chocolate</td>\n",
       "      <td>frozen smoothie</td>\n",
       "      <td>protein bar</td>\n",
       "      <td>mayonnaise</td>\n",
       "      <td>olive oil</td>\n",
       "    </tr>\n",
       "  </tbody>\n",
       "</table>\n",
       "<p>7500 rows × 20 columns</p>\n",
       "</div>"
      ],
      "text/plain": [
       "              shrimp            almonds         avocado    vegetables mix  \\\n",
       "0            burgers          meatballs            eggs     mineral water   \n",
       "1            chutney     mineral water   mineral water      mineral water   \n",
       "2             turkey            avocado  mineral water      mineral water   \n",
       "3      mineral water               milk      energy bar  whole wheat rice   \n",
       "4     low fat yogurt     mineral water   mineral water      mineral water   \n",
       "...              ...                ...             ...               ...   \n",
       "7495          butter         light mayo     fresh bread     mineral water   \n",
       "7496         burgers  frozen vegetables            eggs      french fries   \n",
       "7497         chicken     mineral water   mineral water      mineral water   \n",
       "7498        escalope          green tea  mineral water      mineral water   \n",
       "7499            eggs    frozen smoothie     yogurt cake    low fat yogurt   \n",
       "\n",
       "     green grapes whole weat flour       yams cottage cheese energy drink  \\\n",
       "0       green tea     french fries  green tea      green tea    green tea   \n",
       "1       green tea     french fries  green tea      green tea    green tea   \n",
       "2       green tea     french fries  green tea      green tea    green tea   \n",
       "3       green tea     french fries  green tea      green tea    green tea   \n",
       "4       green tea     french fries  green tea      green tea    green tea   \n",
       "...           ...              ...        ...            ...          ...   \n",
       "7495    green tea     french fries  green tea      green tea    green tea   \n",
       "7496    magazines        green tea  green tea      green tea    green tea   \n",
       "7497    green tea     french fries  green tea      green tea    green tea   \n",
       "7498    green tea     french fries  green tea      green tea    green tea   \n",
       "7499    green tea     french fries  green tea      green tea    green tea   \n",
       "\n",
       "     tomato juice  low fat yogurt  green tea      honey      salad  \\\n",
       "0       green tea  low fat yogurt  green tea  green tea  green tea   \n",
       "1       green tea  low fat yogurt  green tea  green tea  green tea   \n",
       "2       green tea  low fat yogurt  green tea  green tea  green tea   \n",
       "3       green tea  low fat yogurt  green tea  green tea  green tea   \n",
       "4       green tea  low fat yogurt  green tea  green tea  green tea   \n",
       "...           ...             ...        ...        ...        ...   \n",
       "7495    green tea  low fat yogurt  green tea  green tea  green tea   \n",
       "7496    green tea  low fat yogurt  green tea  green tea  green tea   \n",
       "7497    green tea  low fat yogurt  green tea  green tea  green tea   \n",
       "7498    green tea  low fat yogurt  green tea  green tea  green tea   \n",
       "7499    green tea  low fat yogurt  green tea  green tea  green tea   \n",
       "\n",
       "     mineral water     salmon antioxydant juice frozen smoothie     spinach  \\\n",
       "0        magazines  chocolate   frozen smoothie     protein bar  mayonnaise   \n",
       "1        magazines  chocolate   frozen smoothie     protein bar  mayonnaise   \n",
       "2        magazines  chocolate   frozen smoothie     protein bar  mayonnaise   \n",
       "3        magazines  chocolate   frozen smoothie     protein bar  mayonnaise   \n",
       "4        magazines  chocolate   frozen smoothie     protein bar  mayonnaise   \n",
       "...            ...        ...               ...             ...         ...   \n",
       "7495     magazines  chocolate   frozen smoothie     protein bar  mayonnaise   \n",
       "7496     magazines  chocolate   frozen smoothie     protein bar  mayonnaise   \n",
       "7497     magazines  chocolate   frozen smoothie     protein bar  mayonnaise   \n",
       "7498     magazines  chocolate   frozen smoothie     protein bar  mayonnaise   \n",
       "7499     magazines  chocolate   frozen smoothie     protein bar  mayonnaise   \n",
       "\n",
       "      olive oil  \n",
       "0     olive oil  \n",
       "1     olive oil  \n",
       "2     olive oil  \n",
       "3     olive oil  \n",
       "4     olive oil  \n",
       "...         ...  \n",
       "7495  olive oil  \n",
       "7496  olive oil  \n",
       "7497  olive oil  \n",
       "7498  olive oil  \n",
       "7499  olive oil  \n",
       "\n",
       "[7500 rows x 20 columns]"
      ]
     },
     "execution_count": 25,
     "metadata": {},
     "output_type": "execute_result"
    }
   ],
   "source": [
    "data"
   ]
  },
  {
   "cell_type": "code",
   "execution_count": 26,
   "id": "38e337ae",
   "metadata": {
    "ExecuteTime": {
     "end_time": "2022-08-28T20:38:56.463605Z",
     "start_time": "2022-08-28T20:38:03.962261Z"
    },
    "scrolled": false
   },
   "outputs": [
    {
     "name": "stdout",
     "output_type": "stream",
     "text": [
      "Collecting package metadata (current_repodata.json): ...working... done\n",
      "Solving environment: ...working... done\n",
      "\n",
      "# All requested packages already installed.\n",
      "\n",
      "Retrieving notices: ...working... done\n",
      "\n",
      "Note: you may need to restart the kernel to use updated packages.\n"
     ]
    }
   ],
   "source": [
    "conda install -c conda-forge mlxtend"
   ]
  },
  {
   "cell_type": "code",
   "execution_count": 27,
   "id": "5012d10a",
   "metadata": {
    "ExecuteTime": {
     "end_time": "2022-08-28T20:38:59.384727Z",
     "start_time": "2022-08-28T20:38:56.546763Z"
    }
   },
   "outputs": [
    {
     "name": "stdout",
     "output_type": "stream",
     "text": [
      "Requirement already satisfied: mlxtend in c:\\users\\lenovo\\anaconda3\\lib\\site-packages (0.20.0)\n",
      "Requirement already satisfied: setuptools in c:\\users\\lenovo\\anaconda3\\lib\\site-packages (from mlxtend) (61.2.0)\n",
      "Requirement already satisfied: pandas>=0.24.2 in c:\\users\\lenovo\\anaconda3\\lib\\site-packages (from mlxtend) (1.4.2)\n",
      "Requirement already satisfied: numpy>=1.16.2 in c:\\users\\lenovo\\anaconda3\\lib\\site-packages (from mlxtend) (1.21.5)\n",
      "Requirement already satisfied: scikit-learn>=1.0.2 in c:\\users\\lenovo\\anaconda3\\lib\\site-packages (from mlxtend) (1.0.2)\n",
      "Requirement already satisfied: joblib>=0.13.2 in c:\\users\\lenovo\\anaconda3\\lib\\site-packages (from mlxtend) (1.1.0)\n",
      "Requirement already satisfied: scipy>=1.2.1 in c:\\users\\lenovo\\anaconda3\\lib\\site-packages (from mlxtend) (1.7.3)\n",
      "Requirement already satisfied: matplotlib>=3.0.0 in c:\\users\\lenovo\\anaconda3\\lib\\site-packages (from mlxtend) (3.5.1)\n",
      "Requirement already satisfied: pyparsing>=2.2.1 in c:\\users\\lenovo\\anaconda3\\lib\\site-packages (from matplotlib>=3.0.0->mlxtend) (3.0.4)\n",
      "Requirement already satisfied: cycler>=0.10 in c:\\users\\lenovo\\anaconda3\\lib\\site-packages (from matplotlib>=3.0.0->mlxtend) (0.11.0)\n",
      "Requirement already satisfied: kiwisolver>=1.0.1 in c:\\users\\lenovo\\anaconda3\\lib\\site-packages (from matplotlib>=3.0.0->mlxtend) (1.3.2)\n",
      "Requirement already satisfied: packaging>=20.0 in c:\\users\\lenovo\\anaconda3\\lib\\site-packages (from matplotlib>=3.0.0->mlxtend) (21.3)\n",
      "Requirement already satisfied: python-dateutil>=2.7 in c:\\users\\lenovo\\anaconda3\\lib\\site-packages (from matplotlib>=3.0.0->mlxtend) (2.8.2)\n",
      "Requirement already satisfied: fonttools>=4.22.0 in c:\\users\\lenovo\\anaconda3\\lib\\site-packages (from matplotlib>=3.0.0->mlxtend) (4.25.0)\n",
      "Requirement already satisfied: pillow>=6.2.0 in c:\\users\\lenovo\\anaconda3\\lib\\site-packages (from matplotlib>=3.0.0->mlxtend) (9.0.1)\n",
      "Requirement already satisfied: pytz>=2020.1 in c:\\users\\lenovo\\anaconda3\\lib\\site-packages (from pandas>=0.24.2->mlxtend) (2021.3)\n",
      "Requirement already satisfied: six>=1.5 in c:\\users\\lenovo\\anaconda3\\lib\\site-packages (from python-dateutil>=2.7->matplotlib>=3.0.0->mlxtend) (1.16.0)\n",
      "Requirement already satisfied: threadpoolctl>=2.0.0 in c:\\users\\lenovo\\anaconda3\\lib\\site-packages (from scikit-learn>=1.0.2->mlxtend) (2.2.0)\n"
     ]
    }
   ],
   "source": [
    "!pip install mlxtend"
   ]
  },
  {
   "cell_type": "markdown",
   "id": "f40746c3",
   "metadata": {},
   "source": [
    "# Apriori Preparation"
   ]
  },
  {
   "cell_type": "code",
   "execution_count": 35,
   "id": "23247e99",
   "metadata": {
    "ExecuteTime": {
     "end_time": "2022-08-28T21:16:52.177202Z",
     "start_time": "2022-08-28T21:10:34.626753Z"
    }
   },
   "outputs": [],
   "source": [
    "# Getting the list of transactions from the dataset\n",
    "transactions = []\n",
    "for i in range(0, len(data)):\n",
    "    transactions.append([str(data.values[i,j]) for j in range(0, len(data.columns))])"
   ]
  },
  {
   "cell_type": "code",
   "execution_count": 43,
   "id": "b2b433b7",
   "metadata": {
    "ExecuteTime": {
     "end_time": "2022-08-29T01:51:18.578436Z",
     "start_time": "2022-08-29T01:51:18.563519Z"
    }
   },
   "outputs": [
    {
     "data": {
      "text/plain": [
       "['burgers',\n",
       " 'meatballs',\n",
       " 'eggs',\n",
       " 'mineral water',\n",
       " 'green tea',\n",
       " 'french fries',\n",
       " 'green tea',\n",
       " 'green tea',\n",
       " 'green tea',\n",
       " 'green tea',\n",
       " 'low fat yogurt',\n",
       " 'green tea',\n",
       " 'green tea',\n",
       " 'green tea',\n",
       " 'magazines',\n",
       " 'chocolate',\n",
       " 'frozen smoothie',\n",
       " 'protein bar',\n",
       " 'mayonnaise',\n",
       " 'olive oil']"
      ]
     },
     "execution_count": 43,
     "metadata": {},
     "output_type": "execute_result"
    }
   ],
   "source": [
    "transactions[0]"
   ]
  },
  {
   "cell_type": "code",
   "execution_count": 36,
   "id": "ebe07db8",
   "metadata": {
    "ExecuteTime": {
     "end_time": "2022-08-28T21:16:52.524129Z",
     "start_time": "2022-08-28T21:16:52.400289Z"
    }
   },
   "outputs": [
    {
     "data": {
      "text/html": [
       "<div>\n",
       "<style scoped>\n",
       "    .dataframe tbody tr th:only-of-type {\n",
       "        vertical-align: middle;\n",
       "    }\n",
       "\n",
       "    .dataframe tbody tr th {\n",
       "        vertical-align: top;\n",
       "    }\n",
       "\n",
       "    .dataframe thead th {\n",
       "        text-align: right;\n",
       "    }\n",
       "</style>\n",
       "<table border=\"1\" class=\"dataframe\">\n",
       "  <thead>\n",
       "    <tr style=\"text-align: right;\">\n",
       "      <th></th>\n",
       "      <th>asparagus</th>\n",
       "      <th>almonds</th>\n",
       "      <th>antioxydant juice</th>\n",
       "      <th>asparagus</th>\n",
       "      <th>avocado</th>\n",
       "      <th>babies food</th>\n",
       "      <th>bacon</th>\n",
       "      <th>barbecue sauce</th>\n",
       "      <th>black tea</th>\n",
       "      <th>blueberries</th>\n",
       "      <th>...</th>\n",
       "      <th>turkey</th>\n",
       "      <th>vegetables mix</th>\n",
       "      <th>water spray</th>\n",
       "      <th>white wine</th>\n",
       "      <th>whole weat flour</th>\n",
       "      <th>whole wheat pasta</th>\n",
       "      <th>whole wheat rice</th>\n",
       "      <th>yams</th>\n",
       "      <th>yogurt cake</th>\n",
       "      <th>zucchini</th>\n",
       "    </tr>\n",
       "  </thead>\n",
       "  <tbody>\n",
       "    <tr>\n",
       "      <th>0</th>\n",
       "      <td>False</td>\n",
       "      <td>False</td>\n",
       "      <td>False</td>\n",
       "      <td>False</td>\n",
       "      <td>False</td>\n",
       "      <td>False</td>\n",
       "      <td>False</td>\n",
       "      <td>False</td>\n",
       "      <td>False</td>\n",
       "      <td>False</td>\n",
       "      <td>...</td>\n",
       "      <td>False</td>\n",
       "      <td>False</td>\n",
       "      <td>False</td>\n",
       "      <td>False</td>\n",
       "      <td>False</td>\n",
       "      <td>False</td>\n",
       "      <td>False</td>\n",
       "      <td>False</td>\n",
       "      <td>False</td>\n",
       "      <td>False</td>\n",
       "    </tr>\n",
       "    <tr>\n",
       "      <th>1</th>\n",
       "      <td>False</td>\n",
       "      <td>False</td>\n",
       "      <td>False</td>\n",
       "      <td>False</td>\n",
       "      <td>False</td>\n",
       "      <td>False</td>\n",
       "      <td>False</td>\n",
       "      <td>False</td>\n",
       "      <td>False</td>\n",
       "      <td>False</td>\n",
       "      <td>...</td>\n",
       "      <td>False</td>\n",
       "      <td>False</td>\n",
       "      <td>False</td>\n",
       "      <td>False</td>\n",
       "      <td>False</td>\n",
       "      <td>False</td>\n",
       "      <td>False</td>\n",
       "      <td>False</td>\n",
       "      <td>False</td>\n",
       "      <td>False</td>\n",
       "    </tr>\n",
       "    <tr>\n",
       "      <th>2</th>\n",
       "      <td>False</td>\n",
       "      <td>False</td>\n",
       "      <td>False</td>\n",
       "      <td>False</td>\n",
       "      <td>True</td>\n",
       "      <td>False</td>\n",
       "      <td>False</td>\n",
       "      <td>False</td>\n",
       "      <td>False</td>\n",
       "      <td>False</td>\n",
       "      <td>...</td>\n",
       "      <td>True</td>\n",
       "      <td>False</td>\n",
       "      <td>False</td>\n",
       "      <td>False</td>\n",
       "      <td>False</td>\n",
       "      <td>False</td>\n",
       "      <td>False</td>\n",
       "      <td>False</td>\n",
       "      <td>False</td>\n",
       "      <td>False</td>\n",
       "    </tr>\n",
       "    <tr>\n",
       "      <th>3</th>\n",
       "      <td>False</td>\n",
       "      <td>False</td>\n",
       "      <td>False</td>\n",
       "      <td>False</td>\n",
       "      <td>False</td>\n",
       "      <td>False</td>\n",
       "      <td>False</td>\n",
       "      <td>False</td>\n",
       "      <td>False</td>\n",
       "      <td>False</td>\n",
       "      <td>...</td>\n",
       "      <td>False</td>\n",
       "      <td>False</td>\n",
       "      <td>False</td>\n",
       "      <td>False</td>\n",
       "      <td>False</td>\n",
       "      <td>False</td>\n",
       "      <td>True</td>\n",
       "      <td>False</td>\n",
       "      <td>False</td>\n",
       "      <td>False</td>\n",
       "    </tr>\n",
       "    <tr>\n",
       "      <th>4</th>\n",
       "      <td>False</td>\n",
       "      <td>False</td>\n",
       "      <td>False</td>\n",
       "      <td>False</td>\n",
       "      <td>False</td>\n",
       "      <td>False</td>\n",
       "      <td>False</td>\n",
       "      <td>False</td>\n",
       "      <td>False</td>\n",
       "      <td>False</td>\n",
       "      <td>...</td>\n",
       "      <td>False</td>\n",
       "      <td>False</td>\n",
       "      <td>False</td>\n",
       "      <td>False</td>\n",
       "      <td>False</td>\n",
       "      <td>False</td>\n",
       "      <td>False</td>\n",
       "      <td>False</td>\n",
       "      <td>False</td>\n",
       "      <td>False</td>\n",
       "    </tr>\n",
       "  </tbody>\n",
       "</table>\n",
       "<p>5 rows × 121 columns</p>\n",
       "</div>"
      ],
      "text/plain": [
       "    asparagus  almonds  antioxydant juice  asparagus  avocado  babies food  \\\n",
       "0       False    False              False      False    False        False   \n",
       "1       False    False              False      False    False        False   \n",
       "2       False    False              False      False     True        False   \n",
       "3       False    False              False      False    False        False   \n",
       "4       False    False              False      False    False        False   \n",
       "\n",
       "   bacon  barbecue sauce  black tea  blueberries  ...  turkey  vegetables mix  \\\n",
       "0  False           False      False        False  ...   False           False   \n",
       "1  False           False      False        False  ...   False           False   \n",
       "2  False           False      False        False  ...    True           False   \n",
       "3  False           False      False        False  ...   False           False   \n",
       "4  False           False      False        False  ...   False           False   \n",
       "\n",
       "   water spray  white wine  whole weat flour  whole wheat pasta  \\\n",
       "0        False       False             False              False   \n",
       "1        False       False             False              False   \n",
       "2        False       False             False              False   \n",
       "3        False       False             False              False   \n",
       "4        False       False             False              False   \n",
       "\n",
       "   whole wheat rice   yams  yogurt cake  zucchini  \n",
       "0             False  False        False     False  \n",
       "1             False  False        False     False  \n",
       "2             False  False        False     False  \n",
       "3              True  False        False     False  \n",
       "4             False  False        False     False  \n",
       "\n",
       "[5 rows x 121 columns]"
      ]
     },
     "execution_count": 36,
     "metadata": {},
     "output_type": "execute_result"
    }
   ],
   "source": [
    "# Import the transaction encoder function from mlxtend\n",
    "from mlxtend.preprocessing import TransactionEncoder\n",
    "\n",
    "# Instantiate transaction encoder and identify unique items\n",
    "encoder = TransactionEncoder().fit(transactions)\n",
    "\n",
    "# Apply one-hot-encoding on our transactions\n",
    "onehot = encoder.transform(transactions)\n",
    "\n",
    "# Convert one-hot encoded data to DataFrame\n",
    "onehot = pd.DataFrame(onehot, columns = encoder.columns_)\n",
    "\n",
    "# Print the one-hot encoded transaction dataset\n",
    "onehot.head()"
   ]
  },
  {
   "cell_type": "markdown",
   "id": "8e9bfd09",
   "metadata": {},
   "source": [
    "# Support Code"
   ]
  },
  {
   "cell_type": "code",
   "execution_count": 37,
   "id": "17243379",
   "metadata": {
    "ExecuteTime": {
     "end_time": "2022-08-28T21:16:52.808816Z",
     "start_time": "2022-08-28T21:16:52.682780Z"
    }
   },
   "outputs": [
    {
     "data": {
      "text/html": [
       "<div>\n",
       "<style scoped>\n",
       "    .dataframe tbody tr th:only-of-type {\n",
       "        vertical-align: middle;\n",
       "    }\n",
       "\n",
       "    .dataframe tbody tr th {\n",
       "        vertical-align: top;\n",
       "    }\n",
       "\n",
       "    .dataframe thead th {\n",
       "        text-align: right;\n",
       "    }\n",
       "</style>\n",
       "<table border=\"1\" class=\"dataframe\">\n",
       "  <thead>\n",
       "    <tr style=\"text-align: right;\">\n",
       "      <th></th>\n",
       "      <th>support</th>\n",
       "      <th>itemsets</th>\n",
       "    </tr>\n",
       "  </thead>\n",
       "  <tbody>\n",
       "    <tr>\n",
       "      <th>0</th>\n",
       "      <td>0.999467</td>\n",
       "      <td>(chocolate)</td>\n",
       "    </tr>\n",
       "    <tr>\n",
       "      <th>1</th>\n",
       "      <td>0.819333</td>\n",
       "      <td>(french fries)</td>\n",
       "    </tr>\n",
       "    <tr>\n",
       "      <th>2</th>\n",
       "      <td>0.999867</td>\n",
       "      <td>(frozen smoothie)</td>\n",
       "    </tr>\n",
       "    <tr>\n",
       "      <th>3</th>\n",
       "      <td>0.995867</td>\n",
       "      <td>(green tea)</td>\n",
       "    </tr>\n",
       "    <tr>\n",
       "      <th>4</th>\n",
       "      <td>0.971733</td>\n",
       "      <td>(low fat yogurt)</td>\n",
       "    </tr>\n",
       "    <tr>\n",
       "      <th>...</th>\n",
       "      <td>...</td>\n",
       "      <td>...</td>\n",
       "    </tr>\n",
       "    <tr>\n",
       "      <th>1018</th>\n",
       "      <td>0.632533</td>\n",
       "      <td>(french fries, chocolate, magazines, mineral w...</td>\n",
       "    </tr>\n",
       "    <tr>\n",
       "      <th>1019</th>\n",
       "      <td>0.632533</td>\n",
       "      <td>(french fries, chocolate, magazines, mineral w...</td>\n",
       "    </tr>\n",
       "    <tr>\n",
       "      <th>1020</th>\n",
       "      <td>0.711733</td>\n",
       "      <td>(chocolate, magazines, mineral water, green te...</td>\n",
       "    </tr>\n",
       "    <tr>\n",
       "      <th>1021</th>\n",
       "      <td>0.632533</td>\n",
       "      <td>(french fries, magazines, mineral water, green...</td>\n",
       "    </tr>\n",
       "    <tr>\n",
       "      <th>1022</th>\n",
       "      <td>0.632533</td>\n",
       "      <td>(french fries, chocolate, magazines, mineral w...</td>\n",
       "    </tr>\n",
       "  </tbody>\n",
       "</table>\n",
       "<p>1023 rows × 2 columns</p>\n",
       "</div>"
      ],
      "text/plain": [
       "       support                                           itemsets\n",
       "0     0.999467                                        (chocolate)\n",
       "1     0.819333                                     (french fries)\n",
       "2     0.999867                                  (frozen smoothie)\n",
       "3     0.995867                                        (green tea)\n",
       "4     0.971733                                   (low fat yogurt)\n",
       "...        ...                                                ...\n",
       "1018  0.632533  (french fries, chocolate, magazines, mineral w...\n",
       "1019  0.632533  (french fries, chocolate, magazines, mineral w...\n",
       "1020  0.711733  (chocolate, magazines, mineral water, green te...\n",
       "1021  0.632533  (french fries, magazines, mineral water, green...\n",
       "1022  0.632533  (french fries, chocolate, magazines, mineral w...\n",
       "\n",
       "[1023 rows x 2 columns]"
      ]
     },
     "execution_count": 37,
     "metadata": {},
     "output_type": "execute_result"
    }
   ],
   "source": [
    "frequent_itemsets=apriori(onehot, min_support=0.6, use_colnames=True) #Instead of column indices we can use column names.\n",
    "frequent_itemsets\n",
    "#selecting itemsets with a minimum of 60% support"
   ]
  },
  {
   "cell_type": "markdown",
   "id": "09f26857",
   "metadata": {},
   "source": [
    "# Confidence Code"
   ]
  },
  {
   "cell_type": "code",
   "execution_count": 38,
   "id": "20b6335b",
   "metadata": {
    "ExecuteTime": {
     "end_time": "2022-08-28T21:16:53.615791Z",
     "start_time": "2022-08-28T21:16:52.965587Z"
    }
   },
   "outputs": [
    {
     "data": {
      "text/html": [
       "<div>\n",
       "<style scoped>\n",
       "    .dataframe tbody tr th:only-of-type {\n",
       "        vertical-align: middle;\n",
       "    }\n",
       "\n",
       "    .dataframe tbody tr th {\n",
       "        vertical-align: top;\n",
       "    }\n",
       "\n",
       "    .dataframe thead th {\n",
       "        text-align: right;\n",
       "    }\n",
       "</style>\n",
       "<table border=\"1\" class=\"dataframe\">\n",
       "  <thead>\n",
       "    <tr style=\"text-align: right;\">\n",
       "      <th></th>\n",
       "      <th>antecedents</th>\n",
       "      <th>consequents</th>\n",
       "      <th>antecedent support</th>\n",
       "      <th>consequent support</th>\n",
       "      <th>support</th>\n",
       "      <th>confidence</th>\n",
       "      <th>lift</th>\n",
       "      <th>leverage</th>\n",
       "      <th>conviction</th>\n",
       "    </tr>\n",
       "  </thead>\n",
       "  <tbody>\n",
       "    <tr>\n",
       "      <th>0</th>\n",
       "      <td>(french fries)</td>\n",
       "      <td>(chocolate)</td>\n",
       "      <td>0.819333</td>\n",
       "      <td>0.999467</td>\n",
       "      <td>0.819067</td>\n",
       "      <td>0.999675</td>\n",
       "      <td>1.000208</td>\n",
       "      <td>1.703111e-04</td>\n",
       "      <td>1.638667</td>\n",
       "    </tr>\n",
       "    <tr>\n",
       "      <th>1</th>\n",
       "      <td>(chocolate)</td>\n",
       "      <td>(french fries)</td>\n",
       "      <td>0.999467</td>\n",
       "      <td>0.819333</td>\n",
       "      <td>0.819067</td>\n",
       "      <td>0.819504</td>\n",
       "      <td>1.000208</td>\n",
       "      <td>1.703111e-04</td>\n",
       "      <td>1.000944</td>\n",
       "    </tr>\n",
       "    <tr>\n",
       "      <th>2</th>\n",
       "      <td>(frozen smoothie)</td>\n",
       "      <td>(chocolate)</td>\n",
       "      <td>0.999867</td>\n",
       "      <td>0.999467</td>\n",
       "      <td>0.999333</td>\n",
       "      <td>0.999467</td>\n",
       "      <td>1.000000</td>\n",
       "      <td>-7.111111e-08</td>\n",
       "      <td>0.999867</td>\n",
       "    </tr>\n",
       "    <tr>\n",
       "      <th>3</th>\n",
       "      <td>(chocolate)</td>\n",
       "      <td>(frozen smoothie)</td>\n",
       "      <td>0.999467</td>\n",
       "      <td>0.999867</td>\n",
       "      <td>0.999333</td>\n",
       "      <td>0.999867</td>\n",
       "      <td>1.000000</td>\n",
       "      <td>-7.111111e-08</td>\n",
       "      <td>0.999467</td>\n",
       "    </tr>\n",
       "    <tr>\n",
       "      <th>4</th>\n",
       "      <td>(green tea)</td>\n",
       "      <td>(chocolate)</td>\n",
       "      <td>0.995867</td>\n",
       "      <td>0.999467</td>\n",
       "      <td>0.995733</td>\n",
       "      <td>0.999866</td>\n",
       "      <td>1.000400</td>\n",
       "      <td>3.977956e-04</td>\n",
       "      <td>3.983467</td>\n",
       "    </tr>\n",
       "    <tr>\n",
       "      <th>...</th>\n",
       "      <td>...</td>\n",
       "      <td>...</td>\n",
       "      <td>...</td>\n",
       "      <td>...</td>\n",
       "      <td>...</td>\n",
       "      <td>...</td>\n",
       "      <td>...</td>\n",
       "      <td>...</td>\n",
       "      <td>...</td>\n",
       "    </tr>\n",
       "    <tr>\n",
       "      <th>50692</th>\n",
       "      <td>(mineral water, olive oil)</td>\n",
       "      <td>(french fries, chocolate, green tea, magazines...</td>\n",
       "      <td>0.729200</td>\n",
       "      <td>0.810667</td>\n",
       "      <td>0.632533</td>\n",
       "      <td>0.867435</td>\n",
       "      <td>1.070026</td>\n",
       "      <td>4.139520e-02</td>\n",
       "      <td>1.428226</td>\n",
       "    </tr>\n",
       "    <tr>\n",
       "      <th>50693</th>\n",
       "      <td>(frozen smoothie, mineral water)</td>\n",
       "      <td>(french fries, chocolate, green tea, magazines...</td>\n",
       "      <td>0.729067</td>\n",
       "      <td>0.810667</td>\n",
       "      <td>0.632533</td>\n",
       "      <td>0.867593</td>\n",
       "      <td>1.070222</td>\n",
       "      <td>4.150329e-02</td>\n",
       "      <td>1.429937</td>\n",
       "    </tr>\n",
       "    <tr>\n",
       "      <th>50694</th>\n",
       "      <td>(mineral water, low fat yogurt)</td>\n",
       "      <td>(french fries, chocolate, green tea, magazines...</td>\n",
       "      <td>0.712133</td>\n",
       "      <td>0.817200</td>\n",
       "      <td>0.632533</td>\n",
       "      <td>0.888223</td>\n",
       "      <td>1.086910</td>\n",
       "      <td>5.057797e-02</td>\n",
       "      <td>1.635402</td>\n",
       "    </tr>\n",
       "    <tr>\n",
       "      <th>50695</th>\n",
       "      <td>(french fries)</td>\n",
       "      <td>(chocolate, magazines, mineral water, green te...</td>\n",
       "      <td>0.819333</td>\n",
       "      <td>0.711733</td>\n",
       "      <td>0.632533</td>\n",
       "      <td>0.772010</td>\n",
       "      <td>1.084690</td>\n",
       "      <td>4.938649e-02</td>\n",
       "      <td>1.264382</td>\n",
       "    </tr>\n",
       "    <tr>\n",
       "      <th>50696</th>\n",
       "      <td>(mineral water)</td>\n",
       "      <td>(french fries, chocolate, magazines, green tea...</td>\n",
       "      <td>0.729200</td>\n",
       "      <td>0.810667</td>\n",
       "      <td>0.632533</td>\n",
       "      <td>0.867435</td>\n",
       "      <td>1.070026</td>\n",
       "      <td>4.139520e-02</td>\n",
       "      <td>1.428226</td>\n",
       "    </tr>\n",
       "  </tbody>\n",
       "</table>\n",
       "<p>50697 rows × 9 columns</p>\n",
       "</div>"
      ],
      "text/plain": [
       "                            antecedents  \\\n",
       "0                        (french fries)   \n",
       "1                           (chocolate)   \n",
       "2                     (frozen smoothie)   \n",
       "3                           (chocolate)   \n",
       "4                           (green tea)   \n",
       "...                                 ...   \n",
       "50692        (mineral water, olive oil)   \n",
       "50693  (frozen smoothie, mineral water)   \n",
       "50694   (mineral water, low fat yogurt)   \n",
       "50695                    (french fries)   \n",
       "50696                   (mineral water)   \n",
       "\n",
       "                                             consequents  antecedent support  \\\n",
       "0                                            (chocolate)            0.819333   \n",
       "1                                         (french fries)            0.999467   \n",
       "2                                            (chocolate)            0.999867   \n",
       "3                                      (frozen smoothie)            0.999467   \n",
       "4                                            (chocolate)            0.995867   \n",
       "...                                                  ...                 ...   \n",
       "50692  (french fries, chocolate, green tea, magazines...            0.729200   \n",
       "50693  (french fries, chocolate, green tea, magazines...            0.729067   \n",
       "50694  (french fries, chocolate, green tea, magazines...            0.712133   \n",
       "50695  (chocolate, magazines, mineral water, green te...            0.819333   \n",
       "50696  (french fries, chocolate, magazines, green tea...            0.729200   \n",
       "\n",
       "       consequent support   support  confidence      lift      leverage  \\\n",
       "0                0.999467  0.819067    0.999675  1.000208  1.703111e-04   \n",
       "1                0.819333  0.819067    0.819504  1.000208  1.703111e-04   \n",
       "2                0.999467  0.999333    0.999467  1.000000 -7.111111e-08   \n",
       "3                0.999867  0.999333    0.999867  1.000000 -7.111111e-08   \n",
       "4                0.999467  0.995733    0.999866  1.000400  3.977956e-04   \n",
       "...                   ...       ...         ...       ...           ...   \n",
       "50692            0.810667  0.632533    0.867435  1.070026  4.139520e-02   \n",
       "50693            0.810667  0.632533    0.867593  1.070222  4.150329e-02   \n",
       "50694            0.817200  0.632533    0.888223  1.086910  5.057797e-02   \n",
       "50695            0.711733  0.632533    0.772010  1.084690  4.938649e-02   \n",
       "50696            0.810667  0.632533    0.867435  1.070026  4.139520e-02   \n",
       "\n",
       "       conviction  \n",
       "0        1.638667  \n",
       "1        1.000944  \n",
       "2        0.999867  \n",
       "3        0.999467  \n",
       "4        3.983467  \n",
       "...           ...  \n",
       "50692    1.428226  \n",
       "50693    1.429937  \n",
       "50694    1.635402  \n",
       "50695    1.264382  \n",
       "50696    1.428226  \n",
       "\n",
       "[50697 rows x 9 columns]"
      ]
     },
     "execution_count": 38,
     "metadata": {},
     "output_type": "execute_result"
    }
   ],
   "source": [
    "from mlxtend.frequent_patterns import association_rules \n",
    "association_rules(frequent_itemsets,metric=\"confidence\",min_threshold=0.7) # associate itemsets with confidence over 70%."
   ]
  },
  {
   "cell_type": "markdown",
   "id": "e1bdb6d3",
   "metadata": {},
   "source": [
    "# Associating based on lift"
   ]
  },
  {
   "cell_type": "code",
   "execution_count": 41,
   "id": "177fd3f7",
   "metadata": {
    "ExecuteTime": {
     "end_time": "2022-08-28T21:21:34.838365Z",
     "start_time": "2022-08-28T21:21:34.373772Z"
    }
   },
   "outputs": [
    {
     "data": {
      "text/html": [
       "<div>\n",
       "<style scoped>\n",
       "    .dataframe tbody tr th:only-of-type {\n",
       "        vertical-align: middle;\n",
       "    }\n",
       "\n",
       "    .dataframe tbody tr th {\n",
       "        vertical-align: top;\n",
       "    }\n",
       "\n",
       "    .dataframe thead th {\n",
       "        text-align: right;\n",
       "    }\n",
       "</style>\n",
       "<table border=\"1\" class=\"dataframe\">\n",
       "  <thead>\n",
       "    <tr style=\"text-align: right;\">\n",
       "      <th></th>\n",
       "      <th>antecedents</th>\n",
       "      <th>consequents</th>\n",
       "      <th>antecedent support</th>\n",
       "      <th>consequent support</th>\n",
       "      <th>support</th>\n",
       "      <th>confidence</th>\n",
       "      <th>lift</th>\n",
       "      <th>leverage</th>\n",
       "      <th>conviction</th>\n",
       "    </tr>\n",
       "  </thead>\n",
       "  <tbody>\n",
       "    <tr>\n",
       "      <th>0</th>\n",
       "      <td>(french fries)</td>\n",
       "      <td>(chocolate)</td>\n",
       "      <td>0.819333</td>\n",
       "      <td>0.999467</td>\n",
       "      <td>0.819067</td>\n",
       "      <td>0.999675</td>\n",
       "      <td>1.000208</td>\n",
       "      <td>1.703111e-04</td>\n",
       "      <td>1.638667</td>\n",
       "    </tr>\n",
       "    <tr>\n",
       "      <th>1</th>\n",
       "      <td>(chocolate)</td>\n",
       "      <td>(french fries)</td>\n",
       "      <td>0.999467</td>\n",
       "      <td>0.819333</td>\n",
       "      <td>0.819067</td>\n",
       "      <td>0.819504</td>\n",
       "      <td>1.000208</td>\n",
       "      <td>1.703111e-04</td>\n",
       "      <td>1.000944</td>\n",
       "    </tr>\n",
       "    <tr>\n",
       "      <th>2</th>\n",
       "      <td>(frozen smoothie)</td>\n",
       "      <td>(chocolate)</td>\n",
       "      <td>0.999867</td>\n",
       "      <td>0.999467</td>\n",
       "      <td>0.999333</td>\n",
       "      <td>0.999467</td>\n",
       "      <td>1.000000</td>\n",
       "      <td>-7.111111e-08</td>\n",
       "      <td>0.999867</td>\n",
       "    </tr>\n",
       "    <tr>\n",
       "      <th>3</th>\n",
       "      <td>(chocolate)</td>\n",
       "      <td>(frozen smoothie)</td>\n",
       "      <td>0.999467</td>\n",
       "      <td>0.999867</td>\n",
       "      <td>0.999333</td>\n",
       "      <td>0.999867</td>\n",
       "      <td>1.000000</td>\n",
       "      <td>-7.111111e-08</td>\n",
       "      <td>0.999467</td>\n",
       "    </tr>\n",
       "    <tr>\n",
       "      <th>4</th>\n",
       "      <td>(green tea)</td>\n",
       "      <td>(chocolate)</td>\n",
       "      <td>0.995867</td>\n",
       "      <td>0.999467</td>\n",
       "      <td>0.995733</td>\n",
       "      <td>0.999866</td>\n",
       "      <td>1.000400</td>\n",
       "      <td>3.977956e-04</td>\n",
       "      <td>3.983467</td>\n",
       "    </tr>\n",
       "    <tr>\n",
       "      <th>...</th>\n",
       "      <td>...</td>\n",
       "      <td>...</td>\n",
       "      <td>...</td>\n",
       "      <td>...</td>\n",
       "      <td>...</td>\n",
       "      <td>...</td>\n",
       "      <td>...</td>\n",
       "      <td>...</td>\n",
       "      <td>...</td>\n",
       "    </tr>\n",
       "    <tr>\n",
       "      <th>56997</th>\n",
       "      <td>(mayonnaise)</td>\n",
       "      <td>(french fries, chocolate, magazines, mineral w...</td>\n",
       "      <td>0.999867</td>\n",
       "      <td>0.632533</td>\n",
       "      <td>0.632533</td>\n",
       "      <td>0.632618</td>\n",
       "      <td>1.000133</td>\n",
       "      <td>8.433778e-05</td>\n",
       "      <td>1.000230</td>\n",
       "    </tr>\n",
       "    <tr>\n",
       "      <th>56998</th>\n",
       "      <td>(protein bar)</td>\n",
       "      <td>(french fries, chocolate, magazines, mineral w...</td>\n",
       "      <td>0.999867</td>\n",
       "      <td>0.632533</td>\n",
       "      <td>0.632533</td>\n",
       "      <td>0.632618</td>\n",
       "      <td>1.000133</td>\n",
       "      <td>8.433778e-05</td>\n",
       "      <td>1.000230</td>\n",
       "    </tr>\n",
       "    <tr>\n",
       "      <th>56999</th>\n",
       "      <td>(olive oil)</td>\n",
       "      <td>(french fries, chocolate, magazines, mineral w...</td>\n",
       "      <td>1.000000</td>\n",
       "      <td>0.632533</td>\n",
       "      <td>0.632533</td>\n",
       "      <td>0.632533</td>\n",
       "      <td>1.000000</td>\n",
       "      <td>0.000000e+00</td>\n",
       "      <td>1.000000</td>\n",
       "    </tr>\n",
       "    <tr>\n",
       "      <th>57000</th>\n",
       "      <td>(frozen smoothie)</td>\n",
       "      <td>(french fries, chocolate, magazines, mineral w...</td>\n",
       "      <td>0.999867</td>\n",
       "      <td>0.632533</td>\n",
       "      <td>0.632533</td>\n",
       "      <td>0.632618</td>\n",
       "      <td>1.000133</td>\n",
       "      <td>8.433778e-05</td>\n",
       "      <td>1.000230</td>\n",
       "    </tr>\n",
       "    <tr>\n",
       "      <th>57001</th>\n",
       "      <td>(low fat yogurt)</td>\n",
       "      <td>(french fries, chocolate, magazines, mineral w...</td>\n",
       "      <td>0.971733</td>\n",
       "      <td>0.636133</td>\n",
       "      <td>0.632533</td>\n",
       "      <td>0.650933</td>\n",
       "      <td>1.023265</td>\n",
       "      <td>1.438137e-02</td>\n",
       "      <td>1.042398</td>\n",
       "    </tr>\n",
       "  </tbody>\n",
       "</table>\n",
       "<p>57002 rows × 9 columns</p>\n",
       "</div>"
      ],
      "text/plain": [
       "             antecedents                                        consequents  \\\n",
       "0         (french fries)                                        (chocolate)   \n",
       "1            (chocolate)                                     (french fries)   \n",
       "2      (frozen smoothie)                                        (chocolate)   \n",
       "3            (chocolate)                                  (frozen smoothie)   \n",
       "4            (green tea)                                        (chocolate)   \n",
       "...                  ...                                                ...   \n",
       "56997       (mayonnaise)  (french fries, chocolate, magazines, mineral w...   \n",
       "56998      (protein bar)  (french fries, chocolate, magazines, mineral w...   \n",
       "56999        (olive oil)  (french fries, chocolate, magazines, mineral w...   \n",
       "57000  (frozen smoothie)  (french fries, chocolate, magazines, mineral w...   \n",
       "57001   (low fat yogurt)  (french fries, chocolate, magazines, mineral w...   \n",
       "\n",
       "       antecedent support  consequent support   support  confidence      lift  \\\n",
       "0                0.819333            0.999467  0.819067    0.999675  1.000208   \n",
       "1                0.999467            0.819333  0.819067    0.819504  1.000208   \n",
       "2                0.999867            0.999467  0.999333    0.999467  1.000000   \n",
       "3                0.999467            0.999867  0.999333    0.999867  1.000000   \n",
       "4                0.995867            0.999467  0.995733    0.999866  1.000400   \n",
       "...                   ...                 ...       ...         ...       ...   \n",
       "56997            0.999867            0.632533  0.632533    0.632618  1.000133   \n",
       "56998            0.999867            0.632533  0.632533    0.632618  1.000133   \n",
       "56999            1.000000            0.632533  0.632533    0.632533  1.000000   \n",
       "57000            0.999867            0.632533  0.632533    0.632618  1.000133   \n",
       "57001            0.971733            0.636133  0.632533    0.650933  1.023265   \n",
       "\n",
       "           leverage  conviction  \n",
       "0      1.703111e-04    1.638667  \n",
       "1      1.703111e-04    1.000944  \n",
       "2     -7.111111e-08    0.999867  \n",
       "3     -7.111111e-08    0.999467  \n",
       "4      3.977956e-04    3.983467  \n",
       "...             ...         ...  \n",
       "56997  8.433778e-05    1.000230  \n",
       "56998  8.433778e-05    1.000230  \n",
       "56999  0.000000e+00    1.000000  \n",
       "57000  8.433778e-05    1.000230  \n",
       "57001  1.438137e-02    1.042398  \n",
       "\n",
       "[57002 rows x 9 columns]"
      ]
     },
     "execution_count": 41,
     "metadata": {},
     "output_type": "execute_result"
    }
   ],
   "source": [
    "from mlxtend.frequent_patterns import association_rules \n",
    "association_rules(frequent_itemsets,metric=\"lift\",min_threshold=0.8)"
   ]
  },
  {
   "cell_type": "code",
   "execution_count": null,
   "id": "c088502f",
   "metadata": {},
   "outputs": [],
   "source": []
  },
  {
   "cell_type": "code",
   "execution_count": null,
   "id": "cb08884f",
   "metadata": {},
   "outputs": [],
   "source": []
  },
  {
   "cell_type": "code",
   "execution_count": null,
   "id": "41c07e3c",
   "metadata": {},
   "outputs": [],
   "source": []
  },
  {
   "cell_type": "code",
   "execution_count": null,
   "id": "57771064",
   "metadata": {},
   "outputs": [],
   "source": []
  },
  {
   "cell_type": "code",
   "execution_count": null,
   "id": "537c404d",
   "metadata": {},
   "outputs": [],
   "source": []
  },
  {
   "cell_type": "code",
   "execution_count": null,
   "id": "dbbb75d7",
   "metadata": {},
   "outputs": [],
   "source": []
  },
  {
   "cell_type": "code",
   "execution_count": null,
   "id": "06f87565",
   "metadata": {},
   "outputs": [],
   "source": []
  },
  {
   "cell_type": "code",
   "execution_count": null,
   "id": "2492e276",
   "metadata": {},
   "outputs": [],
   "source": []
  },
  {
   "cell_type": "code",
   "execution_count": null,
   "id": "b4c83254",
   "metadata": {},
   "outputs": [],
   "source": []
  },
  {
   "cell_type": "code",
   "execution_count": null,
   "id": "c46a7baa",
   "metadata": {},
   "outputs": [],
   "source": []
  },
  {
   "cell_type": "code",
   "execution_count": null,
   "id": "be952a34",
   "metadata": {},
   "outputs": [],
   "source": []
  },
  {
   "cell_type": "markdown",
   "id": "1e37d49c",
   "metadata": {},
   "source": []
  },
  {
   "cell_type": "markdown",
   "id": "35e7b8d3",
   "metadata": {},
   "source": []
  },
  {
   "cell_type": "code",
   "execution_count": null,
   "id": "649b3884",
   "metadata": {},
   "outputs": [],
   "source": []
  },
  {
   "cell_type": "code",
   "execution_count": null,
   "id": "73f71e01",
   "metadata": {},
   "outputs": [],
   "source": []
  },
  {
   "cell_type": "code",
   "execution_count": null,
   "id": "4fab5b0e",
   "metadata": {
    "ExecuteTime": {
     "start_time": "2022-08-25T19:23:10.214Z"
    }
   },
   "outputs": [],
   "source": []
  },
  {
   "cell_type": "code",
   "execution_count": null,
   "id": "173db91d",
   "metadata": {
    "ExecuteTime": {
     "start_time": "2022-08-25T19:09:59.329Z"
    }
   },
   "outputs": [],
   "source": []
  },
  {
   "cell_type": "code",
   "execution_count": null,
   "id": "ab83768f",
   "metadata": {
    "ExecuteTime": {
     "start_time": "2022-08-25T19:10:00.182Z"
    }
   },
   "outputs": [],
   "source": []
  },
  {
   "cell_type": "code",
   "execution_count": null,
   "id": "11c0688f",
   "metadata": {
    "ExecuteTime": {
     "end_time": "2022-08-25T12:33:30.610792Z",
     "start_time": "2022-08-25T12:33:30.323889Z"
    }
   },
   "outputs": [],
   "source": []
  },
  {
   "cell_type": "code",
   "execution_count": null,
   "id": "d95a3d09",
   "metadata": {
    "ExecuteTime": {
     "end_time": "2022-08-25T15:16:59.171499Z",
     "start_time": "2022-08-25T15:16:59.113690Z"
    }
   },
   "outputs": [],
   "source": []
  },
  {
   "cell_type": "code",
   "execution_count": null,
   "id": "5533e59e",
   "metadata": {
    "ExecuteTime": {
     "end_time": "2022-08-25T15:44:38.851711Z",
     "start_time": "2022-08-25T15:44:38.809857Z"
    }
   },
   "outputs": [],
   "source": []
  },
  {
   "cell_type": "code",
   "execution_count": null,
   "id": "4f442388",
   "metadata": {},
   "outputs": [],
   "source": []
  },
  {
   "cell_type": "code",
   "execution_count": null,
   "id": "54321e83",
   "metadata": {},
   "outputs": [],
   "source": []
  },
  {
   "cell_type": "code",
   "execution_count": null,
   "id": "0f88720e",
   "metadata": {},
   "outputs": [],
   "source": []
  },
  {
   "cell_type": "code",
   "execution_count": null,
   "id": "1b7050ff",
   "metadata": {},
   "outputs": [],
   "source": []
  },
  {
   "cell_type": "code",
   "execution_count": null,
   "id": "937fde82",
   "metadata": {},
   "outputs": [],
   "source": []
  },
  {
   "cell_type": "code",
   "execution_count": null,
   "id": "32b616ee",
   "metadata": {
    "ExecuteTime": {
     "end_time": "2022-08-25T18:31:45.172168Z",
     "start_time": "2022-08-25T18:31:45.155056Z"
    }
   },
   "outputs": [],
   "source": []
  },
  {
   "cell_type": "code",
   "execution_count": null,
   "id": "f7981d01",
   "metadata": {
    "ExecuteTime": {
     "end_time": "2022-08-25T18:36:12.197836Z",
     "start_time": "2022-08-25T18:36:12.135114Z"
    }
   },
   "outputs": [],
   "source": []
  },
  {
   "cell_type": "code",
   "execution_count": null,
   "id": "b1c721b1",
   "metadata": {
    "ExecuteTime": {
     "end_time": "2022-08-25T18:33:12.336391Z",
     "start_time": "2022-08-25T18:33:12.302944Z"
    }
   },
   "outputs": [],
   "source": []
  },
  {
   "cell_type": "code",
   "execution_count": null,
   "id": "be367f53",
   "metadata": {
    "ExecuteTime": {
     "end_time": "2022-08-25T18:33:13.961246Z",
     "start_time": "2022-08-25T18:33:13.743054Z"
    },
    "scrolled": false
   },
   "outputs": [],
   "source": []
  },
  {
   "cell_type": "code",
   "execution_count": null,
   "id": "e15d96dd",
   "metadata": {
    "ExecuteTime": {
     "end_time": "2022-08-25T18:37:45.060288Z",
     "start_time": "2022-08-25T18:37:44.936094Z"
    }
   },
   "outputs": [],
   "source": []
  },
  {
   "cell_type": "code",
   "execution_count": null,
   "id": "3f4052fd",
   "metadata": {},
   "outputs": [],
   "source": []
  },
  {
   "cell_type": "code",
   "execution_count": null,
   "id": "8621bc62",
   "metadata": {},
   "outputs": [],
   "source": []
  },
  {
   "cell_type": "code",
   "execution_count": null,
   "id": "f79a3d1c",
   "metadata": {},
   "outputs": [],
   "source": []
  },
  {
   "cell_type": "code",
   "execution_count": null,
   "id": "7aaa5c7b",
   "metadata": {},
   "outputs": [],
   "source": []
  },
  {
   "cell_type": "code",
   "execution_count": null,
   "id": "0b9831f2",
   "metadata": {},
   "outputs": [],
   "source": []
  },
  {
   "cell_type": "code",
   "execution_count": null,
   "id": "29215cab",
   "metadata": {},
   "outputs": [],
   "source": []
  },
  {
   "cell_type": "code",
   "execution_count": null,
   "id": "820ecac7",
   "metadata": {
    "ExecuteTime": {
     "end_time": "2022-08-25T18:33:10.464740Z",
     "start_time": "2022-08-25T18:33:10.386116Z"
    }
   },
   "outputs": [],
   "source": []
  },
  {
   "cell_type": "code",
   "execution_count": null,
   "id": "aee635e6",
   "metadata": {},
   "outputs": [],
   "source": []
  },
  {
   "cell_type": "code",
   "execution_count": null,
   "id": "5f578883",
   "metadata": {},
   "outputs": [],
   "source": []
  },
  {
   "cell_type": "code",
   "execution_count": null,
   "id": "13e0ce67",
   "metadata": {},
   "outputs": [],
   "source": []
  },
  {
   "cell_type": "code",
   "execution_count": null,
   "id": "cea16464",
   "metadata": {},
   "outputs": [],
   "source": []
  },
  {
   "cell_type": "code",
   "execution_count": null,
   "id": "98569a63",
   "metadata": {
    "ExecuteTime": {
     "start_time": "2022-08-25T19:02:43.928Z"
    }
   },
   "outputs": [],
   "source": []
  },
  {
   "cell_type": "code",
   "execution_count": null,
   "id": "d42391bc",
   "metadata": {},
   "outputs": [],
   "source": []
  }
 ],
 "metadata": {
  "kernelspec": {
   "display_name": "Python 3 (ipykernel)",
   "language": "python",
   "name": "python3"
  },
  "language_info": {
   "codemirror_mode": {
    "name": "ipython",
    "version": 3
   },
   "file_extension": ".py",
   "mimetype": "text/x-python",
   "name": "python",
   "nbconvert_exporter": "python",
   "pygments_lexer": "ipython3",
   "version": "3.9.12"
  },
  "toc": {
   "base_numbering": 1,
   "nav_menu": {},
   "number_sections": true,
   "sideBar": true,
   "skip_h1_title": false,
   "title_cell": "Table of Contents",
   "title_sidebar": "Contents",
   "toc_cell": false,
   "toc_position": {},
   "toc_section_display": true,
   "toc_window_display": false
  },
  "varInspector": {
   "cols": {
    "lenName": 16,
    "lenType": 16,
    "lenVar": 40
   },
   "kernels_config": {
    "python": {
     "delete_cmd_postfix": "",
     "delete_cmd_prefix": "del ",
     "library": "var_list.py",
     "varRefreshCmd": "print(var_dic_list())"
    },
    "r": {
     "delete_cmd_postfix": ") ",
     "delete_cmd_prefix": "rm(",
     "library": "var_list.r",
     "varRefreshCmd": "cat(var_dic_list()) "
    }
   },
   "types_to_exclude": [
    "module",
    "function",
    "builtin_function_or_method",
    "instance",
    "_Feature"
   ],
   "window_display": false
  }
 },
 "nbformat": 4,
 "nbformat_minor": 5
}
